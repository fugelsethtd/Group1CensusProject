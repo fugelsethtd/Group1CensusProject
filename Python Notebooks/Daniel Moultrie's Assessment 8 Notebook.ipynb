{
 "cells": [
  {
   "cell_type": "code",
   "execution_count": 261,
   "id": "e700483e",
   "metadata": {},
   "outputs": [
    {
     "name": "stdout",
     "output_type": "stream",
     "text": [
      "[[\"NAME\",\"EMP\",\"PAYANN\",\"RCPSZFI\",\"RCPSZFI_LABEL\",\"RCPPDEMP\",\"RACE_GROUP\",\"RACE_GROUP_LABEL\",\"us\"],\n",
      "[\"United States\",\"92450\",\"4965554\",\"511\",\"Firms with sales/receipts of less than $5,000\",\"83359\",\"00\",\"Total\",\"1\"],\n",
      "[\"United States\",\"41784\",\"1553295\",\"518\",\"Firms with sales/receipts of $5,000 to $9,999\",\"277015\",\"00\",\"Total\",\"1\"],\n",
      "[\"United States\",\"159352\",\"4643999\",\"519\",\"Firms with sales/receipts of $10,000 to $24,999\",\"1942119\",\"00\",\"Total\",\"1\"],\n",
      "[\"United States\",\"243524\",\"5612759\",\"521\",\"Firms with sales/receipts of $25,000 to $49,999\",\"7993433\",\"00\",\"Total\",\"1\"],\n",
      "[\"United States\",\"642540\",\"12197323\",\"522\",\"Firms with sales/receipts of $50,000 to $99,999\",\"35783909\",\"00\",\"Total\",\"1\"],\n",
      "[\"United States\",\"2316429\",\"56347154\",\"523\",\"Firms with sales/receipts of $100,000 to $249,999\",\"193778410\",\"00\",\"Total\",\"1\"],\n",
      "[\"United States\",\"128196406\",\"6937240308\",\"001\",\"All firms\",\"38405539368\",\"00\",\"Total\",\"1\"],\n",
      "[\"United States\",\"4042017\",\"111556988\",\"525\",\"Firms with sales/receipts of $250,000 to $499,999\",\"399008699\",\"00\",\"Total\",\"1\"],\n",
      "[\"United States\",\"6102056\",\"193199832\",\"531\",\"Firms with sales/receipts of $500,000 to $999,999\",\"692682524\",\"00\",\"Total\",\"1\"],\n",
      "[\"United States\",\"114556253\",\"6547163403\",\"532\",\"Firms with sales/receipts of $1,000,000 or more\",\"37073989899\",\"00\",\"Total\",\"1\"],\n",
      "[\"United States\",\"56877432\",\"2580104120\",\"001\",\"All firms\",\"13303162548\",\"30\",\"White\",\"1\"],\n",
      "[\"United States\",\"530153\",\"10211432\",\"522\",\"Firms with sales/receipts of $50,000 to $99,999\",\"30527760\",\"30\",\"White\",\"1\"],\n",
      "[\"United States\",\"1867586\",\"46930856\",\"523\",\"Firms with sales/receipts of $100,000 to $249,999\",\"163032525\",\"30\",\"White\",\"1\"],\n",
      "[\"United States\",\"3244510\",\"92745065\",\"525\",\"Firms with sales/receipts of $250,000 to $499,999\",\"332977175\",\"30\",\"White\",\"1\"],\n",
      "[\"United States\",\"4877719\",\"160415197\",\"531\",\"Firms with sales/receipts of $500,000 to $999,999\",\"576847046\",\"30\",\"White\",\"1\"],\n",
      "[\"United States\",\"45938074\",\"2256953937\",\"532\",\"Firms with sales/receipts of $1,000,000 or more\",\"12190906457\",\"30\",\"White\",\"1\"],\n",
      "[\"United States\",\"1188819\",\"36939229\",\"001\",\"All firms\",\"128012399\",\"40\",\"Black or African American\",\"1\"],\n",
      "[\"United States\",\"71000\",\"3663156\",\"511\",\"Firms with sales/receipts of less than $5,000\",\"70804\",\"30\",\"White\",\"1\"],\n",
      "[\"United States\",\"33708\",\"1154620\",\"518\",\"Firms with sales/receipts of $5,000 to $9,999\",\"236455\",\"30\",\"White\",\"1\"],\n",
      "[\"United States\",\"107630\",\"3074990\",\"519\",\"Firms with sales/receipts of $10,000 to $24,999\",\"1678473\",\"30\",\"White\",\"1\"],\n",
      "[\"United States\",\"207052\",\"4954868\",\"521\",\"Firms with sales/receipts of $25,000 to $49,999\",\"6885851\",\"30\",\"White\",\"1\"],\n",
      "[\"United States\",\"200256\",\"8241262\",\"001\",\"All firms\",\"33697503\",\"50\",\"American Indian and Alaska Native\",\"1\"],\n",
      "[\"United States\",\"1710\",\"91142\",\"511\",\"Firms with sales/receipts of less than $5,000\",\"3751\",\"40\",\"Black or African American\",\"1\"],\n",
      "[\"United States\",\"1267\",\"15673\",\"518\",\"Firms with sales/receipts of $5,000 to $9,999\",\"11441\",\"40\",\"Black or African American\",\"1\"],\n",
      "[\"United States\",\"4111\",\"65860\",\"519\",\"Firms with sales/receipts of $10,000 to $24,999\",\"61709\",\"40\",\"Black or African American\",\"1\"],\n",
      "[\"United States\",\"8638\",\"119711\",\"521\",\"Firms with sales/receipts of $25,000 to $49,999\",\"255190\",\"40\",\"Black or African American\",\"1\"],\n",
      "[\"United States\",\"19543\",\"327025\",\"522\",\"Firms with sales/receipts of $50,000 to $99,999\",\"996356\",\"40\",\"Black or African American\",\"1\"],\n",
      "[\"United States\",\"71545\",\"1477279\",\"523\",\"Firms with sales/receipts of $100,000 to $249,999\",\"5148403\",\"40\",\"Black or African American\",\"1\"],\n",
      "[\"United States\",\"108330\",\"2705769\",\"525\",\"Firms with sales/receipts of $250,000 to $499,999\",\"9228095\",\"40\",\"Black or African American\",\"1\"],\n",
      "[\"United States\",\"174451\",\"4397254\",\"531\",\"Firms with sales/receipts of $500,000 to $999,999\",\"13702819\",\"40\",\"Black or African American\",\"1\"],\n",
      "[\"United States\",\"799222\",\"27739514\",\"532\",\"Firms with sales/receipts of $1,000,000 or more\",\"98604636\",\"40\",\"Black or African American\",\"1\"],\n",
      "[\"United States\",\"0\",\"0\",\"518\",\"Firms with sales/receipts of $5,000 to $9,999\",\"0\",\"50\",\"American Indian and Alaska Native\",\"1\"],\n",
      "[\"United States\",\"271\",\"3230\",\"519\",\"Firms with sales/receipts of $10,000 to $24,999\",\"7854\",\"50\",\"American Indian and Alaska Native\",\"1\"],\n",
      "[\"United States\",\"1477\",\"15533\",\"521\",\"Firms with sales/receipts of $25,000 to $49,999\",\"45762\",\"50\",\"American Indian and Alaska Native\",\"1\"],\n",
      "[\"United States\",\"3208\",\"56790\",\"522\",\"Firms with sales/receipts of $50,000 to $99,999\",\"191727\",\"50\",\"American Indian and Alaska Native\",\"1\"],\n",
      "[\"United States\",\"12693\",\"274807\",\"523\",\"Firms with sales/receipts of $100,000 to $249,999\",\"987922\",\"50\",\"American Indian and Alaska Native\",\"1\"],\n",
      "[\"United States\",\"15126\",\"431302\",\"525\",\"Firms with sales/receipts of $250,000 to $499,999\",\"1710369\",\"50\",\"American Indian and Alaska Native\",\"1\"],\n",
      "[\"United States\",\"20953\",\"726537\",\"531\",\"Firms with sales/receipts of $500,000 to $999,999\",\"2596532\",\"50\",\"American Indian and Alaska Native\",\"1\"],\n",
      "[\"United States\",\"146216\",\"6725702\",\"532\",\"Firms with sales/receipts of $1,000,000 or more\",\"28155265\",\"50\",\"American Indian and Alaska Native\",\"1\"],\n",
      "[\"United States\",\"5090065\",\"175800264\",\"001\",\"All firms\",\"863324218\",\"60\",\"Asian\",\"1\"],\n",
      "[\"United States\",\"0\",\"0\",\"511\",\"Firms with sales/receipts of less than $5,000\",\"0\",\"50\",\"American Indian and Alaska Native\",\"1\"],\n",
      "[\"United States\",\"6927\",\"285334\",\"511\",\"Firms with sales/receipts of less than $5,000\",\"5973\",\"60\",\"Asian\",\"1\"],\n",
      "[\"United States\",\"3213\",\"106394\",\"518\",\"Firms with sales/receipts of $5,000 to $9,999\",\"21864\",\"60\",\"Asian\",\"1\"],\n",
      "[\"United States\",\"10971\",\"244757\",\"519\",\"Firms with sales/receipts of $10,000 to $24,999\",\"153373\",\"60\",\"Asian\",\"1\"],\n",
      "[\"United States\",\"16340\",\"341344\",\"521\",\"Firms with sales/receipts of $25,000 to $49,999\",\"595527\",\"60\",\"Asian\",\"1\"],\n",
      "[\"United States\",\"61961\",\"1149833\",\"522\",\"Firms with sales/receipts of $50,000 to $99,999\",\"3227569\",\"60\",\"Asian\",\"1\"],\n",
      "[\"United States\",\"261760\",\"5474601\",\"523\",\"Firms with sales/receipts of $100,000 to $249,999\",\"20117551\",\"60\",\"Asian\",\"1\"],\n",
      "[\"United States\",\"496521\",\"11284127\",\"525\",\"Firms with sales/receipts of $250,000 to $499,999\",\"44684417\",\"60\",\"Asian\",\"1\"],\n",
      "[\"United States\",\"722749\",\"19089093\",\"531\",\"Firms with sales/receipts of $500,000 to $999,999\",\"78519920\",\"60\",\"Asian\",\"1\"],\n",
      "[\"United States\",\"3509623\",\"137824781\",\"532\",\"Firms with sales/receipts of $1,000,000 or more\",\"715998024\",\"60\",\"Asian\",\"1\"],\n",
      "[\"United States\",\"0\",\"0\",\"519\",\"Firms with sales/receipts of $10,000 to $24,999\",\"0\",\"70\",\"Native Hawaiian and Other Pacific Islander\",\"1\"],\n",
      "[\"United States\",\"410\",\"3919\",\"521\",\"Firms with sales/receipts of $25,000 to $49,999\",\"13632\",\"70\",\"Native Hawaiian and Other Pacific Islander\",\"1\"],\n",
      "[\"United States\",\"533\",\"11001\",\"522\",\"Firms with sales/receipts of $50,000 to $99,999\",\"36597\",\"70\",\"Native Hawaiian and Other Pacific Islander\",\"1\"],\n",
      "[\"United States\",\"2376\",\"53261\",\"523\",\"Firms with sales/receipts of $100,000 to $249,999\",\"231609\",\"70\",\"Native Hawaiian and Other Pacific Islander\",\"1\"],\n",
      "[\"United States\",\"3949\",\"129035\",\"525\",\"Firms with sales/receipts of $250,000 to $499,999\",\"452817\",\"70\",\"Native Hawaiian and Other Pacific Islander\",\"1\"],\n",
      "[\"United States\",\"8242\",\"263729\",\"531\",\"Firms with sales/receipts of $500,000 to $999,999\",\"1017949\",\"70\",\"Native Hawaiian and Other Pacific Islander\",\"1\"],\n",
      "[\"United States\",\"38615\",\"1658793\",\"532\",\"Firms with sales/receipts of $1,000,000 or more\",\"9421795\",\"70\",\"Native Hawaiian and Other Pacific Islander\",\"1\"],\n",
      "[\"United States\",\"9432081\",\"323027545\",\"001\",\"All firms\",\"1481618918\",\"90\",\"Minority\",\"1\"],\n",
      "[\"United States\",\"54446\",\"2127545\",\"001\",\"All firms\",\"11177012\",\"70\",\"Native Hawaiian and Other Pacific Islander\",\"1\"],\n",
      "[\"United States\",\"11537\",\"467538\",\"511\",\"Firms with sales/receipts of less than $5,000\",\"14555\",\"90\",\"Minority\",\"1\"],\n",
      "[\"United States\",\"6823\",\"180266\",\"518\",\"Firms with sales/receipts of $5,000 to $9,999\",\"50635\",\"90\",\"Minority\",\"1\"],\n",
      "[\"United States\",\"22234\",\"460013\",\"519\",\"Firms with sales/receipts of $10,000 to $24,999\",\"324412\",\"90\",\"Minority\",\"1\"],\n",
      "[\"United States\",\"40714\",\"711760\",\"521\",\"Firms with sales/receipts of $25,000 to $49,999\",\"1344513\",\"90\",\"Minority\",\"1\"],\n",
      "[\"United States\",\"125490\",\"2330937\",\"522\",\"Firms with sales/receipts of $50,000 to $99,999\",\"6603432\",\"90\",\"Minority\",\"1\"],\n",
      "[\"United States\",\"490432\",\"10332245\",\"523\",\"Firms with sales/receipts of $100,000 to $249,999\",\"38213682\",\"90\",\"Minority\",\"1\"],\n",
      "[\"United States\",\"865638\",\"20465862\",\"525\",\"Firms with sales/receipts of $250,000 to $499,999\",\"80081726\",\"90\",\"Minority\",\"1\"],\n",
      "[\"United States\",\"1269106\",\"34493330\",\"531\",\"Firms with sales/receipts of $500,000 to $999,999\",\"134645228\",\"90\",\"Minority\",\"1\"],\n",
      "[\"United States\",\"6600106\",\"253585595\",\"532\",\"Firms with sales/receipts of $1,000,000 or more\",\"1220340734\",\"90\",\"Minority\",\"1\"],\n",
      "[\"United States\",\"189\",\"18790\",\"511\",\"Firms with sales/receipts of less than $5,000\",\"859\",\"91\",\"Equally minority/nonminority\",\"1\"],\n",
      "[\"United States\",\"1231\",\"13157\",\"518\",\"Firms with sales/receipts of $5,000 to $9,999\",\"4101\",\"91\",\"Equally minority/nonminority\",\"1\"],\n",
      "[\"United States\",\"1128\",\"37359\",\"519\",\"Firms with sales/receipts of $10,000 to $24,999\",\"25495\",\"91\",\"Equally minority/nonminority\",\"1\"],\n",
      "[\"United States\",\"3324\",\"70158\",\"521\",\"Firms with sales/receipts of $25,000 to $49,999\",\"119472\",\"91\",\"Equally minority/nonminority\",\"1\"],\n",
      "[\"United States\",\"8537\",\"154571\",\"522\",\"Firms with sales/receipts of $50,000 to $99,999\",\"506060\",\"91\",\"Equally minority/nonminority\",\"1\"],\n",
      "[\"United States\",\"35884\",\"786809\",\"523\",\"Firms with sales/receipts of $100,000 to $249,999\",\"2975873\",\"91\",\"Equally minority/nonminority\",\"1\"],\n",
      "[\"United States\",\"72065\",\"1773687\",\"525\",\"Firms with sales/receipts of $250,000 to $499,999\",\"6399933\",\"91\",\"Equally minority/nonminority\",\"1\"],\n",
      "[\"United States\",\"105212\",\"3236916\",\"531\",\"Firms with sales/receipts of $500,000 to $999,999\",\"11475752\",\"91\",\"Equally minority/nonminority\",\"1\"],\n",
      "[\"United States\",\"615835\",\"27848826\",\"532\",\"Firms with sales/receipts of $1,000,000 or more\",\"112592925\",\"91\",\"Equally minority/nonminority\",\"1\"],\n",
      "[\"United States\",\"843404\",\"33940273\",\"001\",\"All firms\",\"134100469\",\"91\",\"Equally minority/nonminority\",\"1\"],\n",
      "[\"United States\",\"43267298\",\"2154891918\",\"532\",\"Firms with sales/receipts of $1,000,000 or more\",\"11729314494\",\"92\",\"Nonminority\",\"1\"],\n",
      "[\"United States\",\"53190299\",\"2451472104\",\"001\",\"All firms\",\"12741759927\",\"92\",\"Nonminority\",\"1\"],\n",
      "[\"United States\",\"66943\",\"3529340\",\"511\",\"Firms with sales/receipts of less than $5,000\",\"65621\",\"92\",\"Nonminority\",\"1\"],\n",
      "[\"United States\",\"31007\",\"1078643\",\"518\",\"Firms with sales/receipts of $5,000 to $9,999\",\"217158\",\"92\",\"Nonminority\",\"1\"],\n",
      "[\"United States\",\"99699\",\"2901027\",\"519\",\"Firms with sales/receipts of $10,000 to $24,999\",\"1550322\",\"92\",\"Nonminority\",\"1\"],\n",
      "[\"United States\",\"189598\",\"4663815\",\"521\",\"Firms with sales/receipts of $25,000 to $49,999\",\"6314217\",\"92\",\"Nonminority\",\"1\"],\n",
      "[\"United States\",\"480449\",\"9247859\",\"522\",\"Firms with sales/receipts of $50,000 to $99,999\",\"27758254\",\"92\",\"Nonminority\",\"1\"],\n",
      "[\"United States\",\"1684310\",\"42969292\",\"523\",\"Firms with sales/receipts of $100,000 to $249,999\",\"147933110\",\"92\",\"Nonminority\",\"1\"],\n",
      "[\"United States\",\"2933607\",\"84938946\",\"525\",\"Firms with sales/receipts of $250,000 to $499,999\",\"301986692\",\"92\",\"Nonminority\",\"1\"],\n",
      "[\"United States\",\"4437388\",\"147251265\",\"531\",\"Firms with sales/receipts of $500,000 to $999,999\",\"526620057\",\"92\",\"Nonminority\",\"1\"]]\n"
     ]
    }
   ],
   "source": [
    "#Use 'import requests' to access the Characteristics of Business api\n",
    "import requests\n",
    "HOST = \"https://api.census.gov/data\"\n",
    "year = \"2018\"\n",
    "dataset = \"abscb\"\n",
    "base_url = \"/\".join([HOST, year, dataset])\n",
    "#Get the US data from the appropriate variables used for analysis from the api\n",
    "predicates = {}\n",
    "get_vars = [\"NAME\", \"EMP\", \"PAYANN\", \"RCPSZFI\", \"RCPSZFI_LABEL\", \"RCPPDEMP\", \"RACE_GROUP\", \"RACE_GROUP_LABEL\"]\n",
    "predicates[\"get\"] = \",\".join(get_vars)\n",
    "predicates[\"for\"] = \"us\"\n",
    "#Assign the data to the variable r\n",
    "r = requests.get(base_url, params=predicates)\n",
    "#Check the data received by printing r. Make sure the variables \"RCPSZFI_LABEL\" and \"RACE_GROUP_LABEL\" have more varied answers than 'All firms' and 'Total', respectively\n",
    "print(r.text)"
   ]
  },
  {
   "cell_type": "code",
   "execution_count": 262,
   "id": "a04ec1e0",
   "metadata": {},
   "outputs": [
    {
     "name": "stdout",
     "output_type": "stream",
     "text": [
      "['NAME', 'EMP', 'PAYANN', 'RCPSZFI', 'RCPSZFI_LABEL', 'RCPPDEMP', 'RACE_GROUP', 'RACE_GROUP_LABEL', 'us']\n",
      "['name', 'Employee_AMT_By_Firm', 'Annual_Payroll', 'Revenue_Code', 'Revenue_Desc', 'Revenue', 'Race_Code', 'Race', 'us']\n"
     ]
    }
   ],
   "source": [
    "#Print the column names from r and create a new list of corresponding column names in 'col_names' that is easier to read and understand\n",
    "print(r.json()[0])\n",
    "col_names = [\"name\", \"Employee_AMT_By_Firm\", \"Annual_Payroll\", \"Revenue_Code\", \"Revenue_Desc\", \"Revenue\", \"Race_Code\", \"Race\", \"us\"]\n",
    "#Print col_names and compare it to the original list of column names. The names in the new list should be in the same order as their original counterparts\n",
    "print(col_names)"
   ]
  },
  {
   "cell_type": "code",
   "execution_count": 298,
   "id": "b46ee0e3",
   "metadata": {},
   "outputs": [
    {
     "name": "stdout",
     "output_type": "stream",
     "text": [
      "Race\n",
      "American Indian and Alaska Native                400200\n",
      "Asian                                          10180130\n",
      "Black or African American                       2377636\n",
      "Native Hawaiian and Other Pacific Islander       108571\n",
      "White                                         113754864\n",
      "Name: Employee_AMT_By_Firm, dtype: int32\n"
     ]
    },
    {
     "data": {
      "image/png": "[encoded data removed]",
      "text/plain": [
       "<Figure size 432x288 with 1 Axes>"
      ]
     },
     "metadata": {
      "needs_background": "light"
     },
     "output_type": "display_data"
    }
   ],
   "source": [
    "#Import pandas and matplotlib in order to create the visualizations for the data. Import numpy to handle particularly large values\n",
    "import pandas as pd\n",
    "import numpy as np\n",
    "import matplotlib.pyplot as plt\n",
    "%matplotlib inline\n",
    "#Create a new data table using col_names and the data pulled from the Characteristics of Business api and assign it to df\n",
    "df = pd.DataFrame(columns=col_names, data=r.json()[1:])\n",
    "#Set the variable types for the variables \"Employee_AMT_By_Firm\", \"Annual_Payroll\", and \"Revenue\" to int (integers) using the numpy variable np for \"Annual_Payroll\" and \"Revenue\"\n",
    "df[\"Employee_AMT_By_Firm\"] = df[\"Employee_AMT_By_Firm\"].astype(int)\n",
    "df[\"Annual_Payroll\"] = df[\"Annual_Payroll\"].astype(np.int64)\n",
    "df[\"Annual_Payroll\"] = df[\"Annual_Payroll\"] * 1000\n",
    "df[\"Revenue\"] = df[\"Revenue\"].astype(np.int64)\n",
    "#Use the columns for \"Race\" and \"Employee_AMT_By_Firm\" from the df table and to create a new table assigned to race_employed\n",
    "race_employed = df[['Race','Employee_AMT_By_Firm']]\n",
    "#Group the race_employed table by the \"Race\" column and get the summatoin values from the aggregated \"Employee_AMT_By_Firm\" column\n",
    "race_employed = race_employed.groupby('Race')['Employee_AMT_By_Firm'].sum()\n",
    "#Remove the 'Total', 'Minority', 'Nonminority', and 'Equally minority/nonminority' variables from race_employed \n",
    "race_employed = race_employed.drop(['Total', 'Minority', 'Nonminority', 'Equally minority/nonminority'])\n",
    "#Print the race_employed table\n",
    "print(race_employed)\n",
    "#Create a bar graph using the data from race_employed and display the graph\n",
    "ax = race_employed.plot(title = 'US Employee Count By Race in 2018',kind='bar')\n",
    "ax.set_xlabel('Race')\n",
    "ax.set_ylabel('# of Employees (in hundreds of millions)')\n",
    "plt.show()"
   ]
  },
  {
   "cell_type": "code",
   "execution_count": 302,
   "id": "6fd61a84",
   "metadata": {},
   "outputs": [
    {
     "name": "stdout",
     "output_type": "stream",
     "text": [
      "Race\n",
      "American Indian and Alaska Native               16475163000\n",
      "Asian                                          351600528000\n",
      "Black or African American                       73878456000\n",
      "Native Hawaiian and Other Pacific Islander       4247283000\n",
      "White                                         5160208241000\n",
      "Name: Annual_Payroll, dtype: int64\n"
     ]
    },
    {
     "data": {
      "image/png": "[encoded data removed]",
      "text/plain": [
       "<Figure size 432x288 with 1 Axes>"
      ]
     },
     "metadata": {
      "needs_background": "light"
     },
     "output_type": "display_data"
    }
   ],
   "source": [
    "#Use the columns for \"Race\" and \"Annual_Payroll\" from the df table and to create a new table assigned to race_payroll\n",
    "race_payroll = df[['Race','Annual_Payroll']]\n",
    "#Group the race_payroll table by the \"Race\" column and get the summation values from the aggregated \"Annual_Payroll\" column\n",
    "race_payroll = race_payroll.groupby('Race')['Annual_Payroll'].sum()\n",
    "#Remove the 'Total', 'Minority', 'Nonminority', and 'Equally minority/nonminority' variables from race_payroll\n",
    "race_payroll = race_payroll.drop(['Total', 'Minority', 'Nonminority', 'Equally minority/nonminority'])\n",
    "#Print the race_payroll table\n",
    "print(race_payroll)\n",
    "#Create a horizontal bar graph using the data from race_payroll and display the graph\n",
    "ax = race_payroll.plot(title = 'US Summation of Employee Earinings By Race in 2018',kind='barh')\n",
    "ax.set_ylabel('Race')\n",
    "ax.set_xlabel('US Summation of Employee Earinings (in trillions of dollars)')\n",
    "plt.show()"
   ]
  },
  {
   "cell_type": "code",
   "execution_count": 300,
   "id": "5175de30",
   "metadata": {},
   "outputs": [
    {
     "name": "stdout",
     "output_type": "stream",
     "text": [
      "Race      Revenue_Desc                                     \n",
      "Minority  All firms                                            9432081\n",
      "          Firms with sales/receipts of $1,000,000 or more      6600106\n",
      "          Firms with sales/receipts of $10,000 to $24,999        22234\n",
      "          Firms with sales/receipts of $100,000 to $249,999     490432\n",
      "          Firms with sales/receipts of $25,000 to $49,999        40714\n",
      "          Firms with sales/receipts of $250,000 to $499,999     865638\n",
      "          Firms with sales/receipts of $5,000 to $9,999           6823\n",
      "          Firms with sales/receipts of $50,000 to $99,999       125490\n",
      "          Firms with sales/receipts of $500,000 to $999,999    1269106\n",
      "          Firms with sales/receipts of less than $5,000          11537\n",
      "Name: Employee_AMT_By_Firm, dtype: int32\n"
     ]
    }
   ],
   "source": [
    "#Use the columns for \"Race\", \"Revenue_Desc\" and \"Employee_AMT_By_Firm\" from the df table and to create a new table assigned to race_revenue\n",
    "race_revenue = df[['Race', 'Revenue_Desc', 'Employee_AMT_By_Firm']]\n",
    "#Group the race_revenue table by the \"Race\" and \"Revenue_Desc\" columns and get the summation values from the aggregated \"Employee_AMT_By_Firm\" column\n",
    "race_revenue = race_revenue.groupby(['Race', 'Revenue_Desc'])['Employee_AMT_By_Firm'].sum()\n",
    "#Remove all variables from race_revenue except the 'Minority' variable\n",
    "race_revenue = race_revenue.drop(['Total', 'Nonminority', 'Equally minority/nonminority', 'American Indian and Alaska Native', 'Asian', 'Black or African American', 'Native Hawaiian and Other Pacific Islander', 'White'])\n",
    "#Print the race_revenue table\n",
    "print(race_revenue)"
   ]
  },
  {
   "cell_type": "code",
   "execution_count": 301,
   "id": "1288142e",
   "metadata": {},
   "outputs": [
    {
     "name": "stdout",
     "output_type": "stream",
     "text": [
      "{'sales/receipts: $0-$5,000': 11537, 'sales/receipts: $5,000-$9,999': 6823, 'sales/receipts: $10,000-$24,999': 22234, 'sales/receipts: $25,000-$49,999': 40714, 'sales/receipts: $50,000-$99,999': 125490, 'sales/receipts: $100,000-$249,999': 490432, 'sales/receipts: $250,000-$499,999': 865638, 'sales/receipts: $500,000-$999,999': 1269106, 'sales/receipts: $1,000,000+': 6600106}\n"
     ]
    },
    {
     "data": {
      "text/html": [
       "\n",
       "<div id=\"altair-viz-6e119eefb19e43a1b6f84cfcf22697a5\"></div>\n",
       "<script type=\"text/javascript\">\n",
       "  (function(spec, embedOpt){\n",
       "    let outputDiv = document.currentScript.previousElementSibling;\n",
       "    if (outputDiv.id !== \"altair-viz-6e119eefb19e43a1b6f84cfcf22697a5\") {\n",
       "      outputDiv = document.getElementById(\"altair-viz-6e119eefb19e43a1b6f84cfcf22697a5\");\n",
       "    }\n",
       "    const paths = {\n",
       "      \"vega\": \"https://cdn.jsdelivr.net/npm//vega@5?noext\",\n",
       "      \"vega-lib\": \"https://cdn.jsdelivr.net/npm//vega-lib?noext\",\n",
       "      \"vega-lite\": \"https://cdn.jsdelivr.net/npm//vega-lite@4.8.1?noext\",\n",
       "      \"vega-embed\": \"https://cdn.jsdelivr.net/npm//vega-embed@6?noext\",\n",
       "    };\n",
       "\n",
       "    function loadScript(lib) {\n",
       "      return new Promise(function(resolve, reject) {\n",
       "        var s = document.createElement('script');\n",
       "        s.src = paths[lib];\n",
       "        s.async = true;\n",
       "        s.onload = () => resolve(paths[lib]);\n",
       "        s.onerror = () => reject(`Error loading script: ${paths[lib]}`);\n",
       "        document.getElementsByTagName(\"head\")[0].appendChild(s);\n",
       "      });\n",
       "    }\n",
       "\n",
       "    function showError(err) {\n",
       "      outputDiv.innerHTML = `<div class=\"error\" style=\"color:red;\">${err}</div>`;\n",
       "      throw err;\n",
       "    }\n",
       "\n",
       "    function displayChart(vegaEmbed) {\n",
       "      vegaEmbed(outputDiv, spec, embedOpt)\n",
       "        .catch(err => showError(`Javascript Error: ${err.message}<br>This usually means there's a typo in your chart specification. See the javascript console for the full traceback.`));\n",
       "    }\n",
       "\n",
       "    if(typeof define === \"function\" && define.amd) {\n",
       "      requirejs.config({paths});\n",
       "      require([\"vega-embed\"], displayChart, err => showError(`Error loading script: ${err.message}`));\n",
       "    } else if (typeof vegaEmbed === \"function\") {\n",
       "      displayChart(vegaEmbed);\n",
       "    } else {\n",
       "      loadScript(\"vega\")\n",
       "        .then(() => loadScript(\"vega-lite\"))\n",
       "        .then(() => loadScript(\"vega-embed\"))\n",
       "        .catch(showError)\n",
       "        .then(() => displayChart(vegaEmbed));\n",
       "    }\n",
       "  })({\"config\": {\"view\": {\"continuousWidth\": 400, \"continuousHeight\": 300}}, \"data\": {\"name\": \"data-b43f69992399bee6be9379fa9635eddf\"}, \"mark\": \"bar\", \"encoding\": {\"x\": {\"type\": \"nominal\", \"field\": \"Firm Revenue Amount\", \"sort\": [\"sales/receipts: $0-$5,000\", \"sales/receipts: $5,000-$9,999\", \"sales/receipts: $10,000-$24,999\", \"sales/receipts: $25,000-$49,999\", \"sales/receipts: $50,000-$99,999\", \"sales/receipts: $100,000-$249,999\", \"sales/receipts: $250,000-$499,999\", \"sales/receipts: $500,000-$999,999\", \"sales/receipts: $1,000,000+\"]}, \"y\": {\"type\": \"quantitative\", \"field\": \"# of Minority Employees\"}}, \"title\": \"US # of Minority Employees By Firm Revenue in 2018\", \"$schema\": \"https://vega.github.io/schema/vega-lite/v4.8.1.json\", \"datasets\": {\"data-b43f69992399bee6be9379fa9635eddf\": [{\"Firm Revenue Amount\": \"sales/receipts: $0-$5,000\", \"# of Minority Employees\": 11537}, {\"Firm Revenue Amount\": \"sales/receipts: $5,000-$9,999\", \"# of Minority Employees\": 6823}, {\"Firm Revenue Amount\": \"sales/receipts: $10,000-$24,999\", \"# of Minority Employees\": 22234}, {\"Firm Revenue Amount\": \"sales/receipts: $25,000-$49,999\", \"# of Minority Employees\": 40714}, {\"Firm Revenue Amount\": \"sales/receipts: $50,000-$99,999\", \"# of Minority Employees\": 125490}, {\"Firm Revenue Amount\": \"sales/receipts: $100,000-$249,999\", \"# of Minority Employees\": 490432}, {\"Firm Revenue Amount\": \"sales/receipts: $250,000-$499,999\", \"# of Minority Employees\": 865638}, {\"Firm Revenue Amount\": \"sales/receipts: $500,000-$999,999\", \"# of Minority Employees\": 1269106}, {\"Firm Revenue Amount\": \"sales/receipts: $1,000,000+\", \"# of Minority Employees\": 6600106}]}}, {\"mode\": \"vega-lite\"});\n",
       "</script>"
      ],
      "text/plain": [
       "alt.Chart(...)"
      ]
     },
     "execution_count": 301,
     "metadata": {},
     "output_type": "execute_result"
    }
   ],
   "source": [
    "#Import the second vizualization package, altair\n",
    "import altair as alt\n",
    "#Using the \"Revenue_Desc\" column from the printed race_revenue table, create an ordered list of variables excluding the variable 'All firms' and assign it to 'category_name'. Re-define the names of the variables for easier reading\n",
    "category_name = ['sales/receipts: $0-$5,000','sales/receipts: $5,000-$9,999','sales/receipts: $10,000-$24,999', 'sales/receipts: $25,000-$49,999', 'sales/receipts: $50,000-$99,999', 'sales/receipts: $100,000-$249,999', 'sales/receipts: $250,000-$499,999', 'sales/receipts: $500,000-$999,999', 'sales/receipts: $1,000,000+']\n",
    "#Using the numerical values from the printed race_revenue table, create a list in which the values correspond to the variables in the category_name list as they do in the race_revenue table and assign it to 'amounts'\n",
    "amounts = [11537, 6823, 22234, 40714, 125490, 490432, 865638, 1269106, 6600106]\n",
    "#Create and print a dictionary (assigned to table) using the newly created lists to check that the variables and values are properly aligned. \n",
    "table = {category_name[i]: amounts[i] for i in range(len(category_name))}\n",
    "print(table)\n",
    "#Create a dataframe using the data from 'category_name' and 'amounts' and assign it to rr. Assign 'category_name' to 'Firm Revenue Amount' and 'amounts' to 'Average # of Minority Employees'\n",
    "rr = pd.DataFrame({\n",
    "    'Firm Revenue Amount': category_name,\n",
    "    '# of Minority Employees': amounts\n",
    "})\n",
    "#Create a bar chart using the dataframe rr and set 'Firm Revenue Amount' as the x-values and 'Average # of Minority Employees' as the y-values\n",
    "alt.Chart(rr).mark_bar().encode(\n",
    "    x=alt.X('Firm Revenue Amount', sort=category_name),\n",
    "    y='# of Minority Employees'\n",
    ").properties(\n",
    "    title='US # of Minority Employees By Firm Revenue in 2018'\n",
    ")"
   ]
  }
 ],
 "metadata": {
  "kernelspec": {
   "display_name": "Python 3",
   "language": "python",
   "name": "python3"
  },
  "language_info": {
   "codemirror_mode": {
    "name": "ipython",
    "version": 3
   },
   "file_extension": ".py",
   "mimetype": "text/x-python",
   "name": "python",
   "nbconvert_exporter": "python",
   "pygments_lexer": "ipython3",
   "version": "3.8.8"
  }
 },
 "nbformat": 4,
 "nbformat_minor": 5
}
