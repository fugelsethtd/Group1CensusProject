{
 "cells": [
  {
   "cell_type": "markdown",
   "id": "0df79d26",
   "metadata": {},
   "source": [
    "# Importing\n",
    "\n",
    "First, I imported the requred packages. Requests and JSON were necessary for loading data from the US Census API, pandas was necessary for data cleaning/transformation, and Pyplot, Altair, and Seaborn were used for plotting information."
   ]
  },
  {
   "cell_type": "code",
   "execution_count": 1,
   "id": "103a9ac0",
   "metadata": {},
   "outputs": [],
   "source": [
    "import requests\n",
    "import json\n",
    "\n",
    "import pandas as pd\n",
    "\n",
    "import matplotlib.pyplot as plt\n",
    "import altair as alt\n",
    "import seaborn as sns"
   ]
  },
  {
   "cell_type": "markdown",
   "id": "2246f296",
   "metadata": {},
   "source": [
    "# 1: Do veterans employ more workers? Does this differ between states?"
   ]
  },
  {
   "cell_type": "markdown",
   "id": "0381e2da",
   "metadata": {},
   "source": [
    "First, we make an API call to census.gov, and build the query programatically, looking for employee counts from each state, grouped by the owner's status as a veteran. We then load the data from the query into a pandas DataFrame, using the `col_names` list for the column names."
   ]
  },
  {
   "cell_type": "code",
   "execution_count": 2,
   "id": "81f71898",
   "metadata": {},
   "outputs": [],
   "source": [
    "HOST = 'https://api.census.gov/data'\n",
    "year = '2018'\n",
    "dataset = 'abscs'\n",
    "\n",
    "base_url = '/'.join([HOST, year, dataset])\n",
    "\n",
    "predicates = {}\n",
    "\n",
    "get_vars = [\"NAME\", \"VET_GROUP\", \"EMP\"]\n",
    "\n",
    "predicates['get'] = ','.join(get_vars)\n",
    "\n",
    "predicates['for'] = 'state:*'\n",
    "\n",
    "r = requests.get(base_url, params = predicates)\n",
    "\n",
    "col_names = ['State', 'Veteran status', 'Number employed', 'State code'] #Same order as request\n",
    "\n",
    "df = pd.DataFrame(columns = col_names, data = r.json()[1:])"
   ]
  },
  {
   "cell_type": "markdown",
   "id": "22c75918",
   "metadata": {},
   "source": [
    "Next, we convert the number of employees from string objects to integers."
   ]
  },
  {
   "cell_type": "code",
   "execution_count": 3,
   "id": "51e6d745",
   "metadata": {},
   "outputs": [],
   "source": [
    "df['Number employed'] = df['Number employed'].astype(int)"
   ]
  },
  {
   "cell_type": "markdown",
   "id": "be8b2aa8",
   "metadata": {},
   "source": [
    "We create a new DataFrame to hold the description of each veteran status, linked to the code as it exists in the census data."
   ]
  },
  {
   "cell_type": "code",
   "execution_count": 4,
   "id": "7aac89ae",
   "metadata": {},
   "outputs": [],
   "source": [
    "col_names = ['Veteran status', 'Description']\n",
    "codes = [['001', 'Total'],\n",
    "        ['002', 'Veteran'],\n",
    "        ['003', 'Equal'],\n",
    "        ['004', 'Nonveteran']]\n",
    "\n",
    "vetcodes = pd.DataFrame(columns = col_names, data = codes)"
   ]
  },
  {
   "cell_type": "markdown",
   "id": "f8ab2571",
   "metadata": {},
   "source": [
    "Finally, we merge the DataFrame of census information with the veteran code descriptions, linking them together by the numeric veteran status."
   ]
  },
  {
   "cell_type": "code",
   "execution_count": 5,
   "id": "6e92e446",
   "metadata": {},
   "outputs": [],
   "source": [
    "df = df.merge(vetcodes, how = 'inner', on = 'Veteran status')"
   ]
  },
  {
   "cell_type": "markdown",
   "id": "01b013fe",
   "metadata": {},
   "source": [
    "I chose to drill down, and compare the states Minnesota and Texas to answer the question. We create two new DataFrames, filtering the data down to Minnesota and Texas respectively."
   ]
  },
  {
   "cell_type": "code",
   "execution_count": 6,
   "id": "884db676",
   "metadata": {},
   "outputs": [],
   "source": [
    "mndf = df[df.State == 'Minnesota']\n",
    "txdf = df[df.State == 'Texas']"
   ]
  },
  {
   "cell_type": "markdown",
   "id": "2fd5e644",
   "metadata": {},
   "source": [
    "Because of the difference in population, we need to display the proportions of each employee count, rather than the literal count. We divide each round by the total employee count, then multiply it by 100.\n",
    "\n",
    "Running this command throws a warning, but should complete without issue."
   ]
  },
  {
   "cell_type": "code",
   "execution_count": 7,
   "id": "89c69c04",
   "metadata": {
    "scrolled": true
   },
   "outputs": [
    {
     "name": "stderr",
     "output_type": "stream",
     "text": [
      "C:\\Users\\CHRIST~1\\AppData\\Local\\Temp/ipykernel_16600/3687439341.py:1: SettingWithCopyWarning: \n",
      "A value is trying to be set on a copy of a slice from a DataFrame.\n",
      "Try using .loc[row_indexer,col_indexer] = value instead\n",
      "\n",
      "See the caveats in the documentation: https://pandas.pydata.org/pandas-docs/stable/user_guide/indexing.html#returning-a-view-versus-a-copy\n",
      "  mndf['Number employed'] = (100. * mndf['Number employed'] / mndf['Number employed'].sum()).round(0)\n",
      "C:\\Users\\CHRIST~1\\AppData\\Local\\Temp/ipykernel_16600/3687439341.py:2: SettingWithCopyWarning: \n",
      "A value is trying to be set on a copy of a slice from a DataFrame.\n",
      "Try using .loc[row_indexer,col_indexer] = value instead\n",
      "\n",
      "See the caveats in the documentation: https://pandas.pydata.org/pandas-docs/stable/user_guide/indexing.html#returning-a-view-versus-a-copy\n",
      "  txdf['Number employed'] = (100. * txdf['Number employed'] / txdf['Number employed'].sum()).round(0)\n"
     ]
    }
   ],
   "source": [
    "mndf['Number employed'] = (100. * mndf['Number employed'] / mndf['Number employed'].sum()).round(0)\n",
    "txdf['Number employed'] = (100. * txdf['Number employed'] / txdf['Number employed'].sum()).round(0)"
   ]
  },
  {
   "cell_type": "markdown",
   "id": "456fca4a",
   "metadata": {},
   "source": [
    "We now simply create a list of these DataFrames and concatenate the list using `pd.concat`."
   ]
  },
  {
   "cell_type": "code",
   "execution_count": 8,
   "id": "caf196ca",
   "metadata": {},
   "outputs": [],
   "source": [
    "statelist = [mndf, txdf]\n",
    "statedf = pd.concat(statelist)"
   ]
  },
  {
   "cell_type": "markdown",
   "id": "b8ef604a",
   "metadata": {},
   "source": [
    "We can now create our visualization.\n",
    "\n",
    "First, we create a FacetGrid to hold the information, separated by the value in the `State` column.\n",
    "\n",
    "Then, we create a Seaborn barplot in each facet, showing `Number employed` split up by `Description`, which is the veteran code. \n",
    "\n",
    "Finally, we set our axis labels and our title, and display the plot."
   ]
  },
  {
   "cell_type": "code",
   "execution_count": 9,
   "id": "5415cc21",
   "metadata": {},
   "outputs": [
    {
     "data": {
      "text/plain": [
       "Text(0.5, 0.98, 'Number Employed by Veteran Ownership Status')"
      ]
     },
     "execution_count": 9,
     "metadata": {},
     "output_type": "execute_result"
    },
    {
     "data": {
      "image/png": "[encoded data removed]",
      "text/plain": [
       "<Figure size 648x216 with 2 Axes>"
      ]
     },
     "metadata": {
      "needs_background": "light"
     },
     "output_type": "display_data"
    }
   ],
   "source": [
    "g = sns.FacetGrid(statedf, col=\"State\", aspect = 1.5)\n",
    "g.map_dataframe(sns.barplot, x=\"Description\", y = \"Number employed\", palette = 'Set2')\n",
    "g.set_axis_labels(x_var = 'Ownership', y_var = 'Number employed (%)')\n",
    "\n",
    "g.fig.subplots_adjust(top=0.8)\n",
    "g.fig.suptitle('Number Employed by Veteran Ownership Status')"
   ]
  },
  {
   "cell_type": "markdown",
   "id": "d53f74cc",
   "metadata": {},
   "source": [
    "# 2: Do veteran-owned businesses pay their employees more? "
   ]
  },
  {
   "cell_type": "markdown",
   "id": "cffd2ce5",
   "metadata": {},
   "source": [
    "Similarly to the first process, we begin with our API call, then construct our pandas DataFrame containing `Annual Payroll`, the total amount of money paid out by employers in the survey, along with the `Number Employed` and `State` from the previous process. We convert the `Number Employed` and `Annual Payroll` to integers as well."
   ]
  },
  {
   "cell_type": "code",
   "execution_count": 10,
   "id": "afc96ad8",
   "metadata": {},
   "outputs": [],
   "source": [
    "HOST = 'https://api.census.gov/data'\n",
    "year = '2018'\n",
    "dataset = 'abscs'\n",
    "\n",
    "base_url = '/'.join([HOST, year, dataset])\n",
    "\n",
    "predicates = {}\n",
    "\n",
    "get_vars = [\"NAME\", \"VET_GROUP\", \"PAYANN\", \"EMP\"]\n",
    "\n",
    "predicates['get'] = ','.join(get_vars)\n",
    "\n",
    "predicates['for'] = 'state:*'\n",
    "\n",
    "r = requests.get(base_url, params = predicates)\n",
    "\n",
    "col_names = ['State', 'Veteran status', 'Annual Payroll', 'Number employed', 'State code'] #Same order as request\n",
    "\n",
    "df = pd.DataFrame(columns = col_names, data = r.json()[1:])\n",
    "\n",
    "df['Number employed'] = df['Number employed'].astype(int)\n",
    "df['Annual Payroll'] = df['Annual Payroll'].astype(int)"
   ]
  },
  {
   "cell_type": "markdown",
   "id": "74f1c137",
   "metadata": {},
   "source": [
    "Once again, we merge the main DataFrame with the `vetcodes` DataFrame."
   ]
  },
  {
   "cell_type": "code",
   "execution_count": 11,
   "id": "c926c40e",
   "metadata": {},
   "outputs": [],
   "source": [
    "df2 = df.merge(vetcodes, how = 'inner', on = 'Veteran status')"
   ]
  },
  {
   "cell_type": "markdown",
   "id": "88d97447",
   "metadata": {},
   "source": [
    "This time, we use Altair to create our graph in four steps. Each step s\n",
    "\n",
    "First, we create the base chart, a `mark_point` scatter plot comparing `Number employed` to `Annual Payroll`, with each point representing one state's data from each veteran code, colored based on the veteran code. (Altair also allows us to add a tooltip on each point, listing the state name.\n",
    "\n",
    "Second, the then add a `mark_line` regression line through the data. We use the `transform_regression` method, which creates a regression equation that the `mark_line` will draw.\n",
    "\n",
    "Third, we take advantage of the `params` parameter in the `transform_regression` method, which returns the equation's coefficients and the r-Squared value. `transform_calculate` allows us to extract the intercept and slope. Finally, we store each in a `mark_text` element to display on the chart.\n",
    "\n",
    "Finally, we can use Altair to simply layer the charts one on top of the other. "
   ]
  },
  {
   "cell_type": "code",
   "execution_count": 12,
   "id": "0b8894ee",
   "metadata": {},
   "outputs": [
    {
     "data": {
      "text/html": [
       "\n",
       "<div id=\"altair-viz-8f7e525fb6954cc18261895c6cf90b62\"></div>\n",
       "<script type=\"text/javascript\">\n",
       "  (function(spec, embedOpt){\n",
       "    let outputDiv = document.currentScript.previousElementSibling;\n",
       "    if (outputDiv.id !== \"altair-viz-8f7e525fb6954cc18261895c6cf90b62\") {\n",
       "      outputDiv = document.getElementById(\"altair-viz-8f7e525fb6954cc18261895c6cf90b62\");\n",
       "    }\n",
       "    const paths = {\n",
       "      \"vega\": \"https://cdn.jsdelivr.net/npm//vega@5?noext\",\n",
       "      \"vega-lib\": \"https://cdn.jsdelivr.net/npm//vega-lib?noext\",\n",
       "      \"vega-lite\": \"https://cdn.jsdelivr.net/npm//vega-lite@4.8.1?noext\",\n",
       "      \"vega-embed\": \"https://cdn.jsdelivr.net/npm//vega-embed@6?noext\",\n",
       "    };\n",
       "\n",
       "    function loadScript(lib) {\n",
       "      return new Promise(function(resolve, reject) {\n",
       "        var s = document.createElement('script');\n",
       "        s.src = paths[lib];\n",
       "        s.async = true;\n",
       "        s.onload = () => resolve(paths[lib]);\n",
       "        s.onerror = () => reject(`Error loading script: ${paths[lib]}`);\n",
       "        document.getElementsByTagName(\"head\")[0].appendChild(s);\n",
       "      });\n",
       "    }\n",
       "\n",
       "    function showError(err) {\n",
       "      outputDiv.innerHTML = `<div class=\"error\" style=\"color:red;\">${err}</div>`;\n",
       "      throw err;\n",
       "    }\n",
       "\n",
       "    function displayChart(vegaEmbed) {\n",
       "      vegaEmbed(outputDiv, spec, embedOpt)\n",
       "        .catch(err => showError(`Javascript Error: ${err.message}<br>This usually means there's a typo in your chart specification. See the javascript console for the full traceback.`));\n",
       "    }\n",
       "\n",
       "    if(typeof define === \"function\" && define.amd) {\n",
       "      requirejs.config({paths});\n",
       "      require([\"vega-embed\"], displayChart, err => showError(`Error loading script: ${err.message}`));\n",
       "    } else if (typeof vegaEmbed === \"function\") {\n",
       "      displayChart(vegaEmbed);\n",
       "    } else {\n",
       "      loadScript(\"vega\")\n",
       "        .then(() => loadScript(\"vega-lite\"))\n",
       "        .then(() => loadScript(\"vega-embed\"))\n",
       "        .catch(showError)\n",
       "        .then(() => displayChart(vegaEmbed));\n",
       "    }\n",
       "  })({\"config\": {\"view\": {\"continuousWidth\": 400, \"continuousHeight\": 300}}, \"layer\": [{\"mark\": \"point\", \"encoding\": {\"color\": {\"type\": \"nominal\", \"field\": \"Description\"}, \"tooltip\": {\"type\": \"nominal\", \"field\": \"State\"}, \"x\": {\"type\": \"quantitative\", \"field\": \"Number employed\"}, \"y\": {\"type\": \"quantitative\", \"field\": \"Annual Payroll\"}}, \"title\": \"Annual Payroll vs. # Employed by Veteran Status\"}, {\"mark\": \"line\", \"encoding\": {\"color\": {\"type\": \"nominal\", \"field\": \"Description\"}, \"tooltip\": {\"type\": \"nominal\", \"field\": \"State\"}, \"x\": {\"type\": \"quantitative\", \"field\": \"Number employed\"}, \"y\": {\"type\": \"quantitative\", \"field\": \"Annual Payroll\"}}, \"title\": \"Annual Payroll vs. # Employed by Veteran Status\", \"transform\": [{\"on\": \"Number employed\", \"regression\": \"Annual Payroll\"}]}, {\"data\": {\"name\": \"data-5aebbbfe172d182398473a85af262235\"}, \"mark\": {\"type\": \"text\", \"align\": \"left\"}, \"encoding\": {\"text\": {\"type\": \"nominal\", \"field\": \"slope\"}, \"x\": {\"value\": 200}, \"y\": {\"value\": 60}}, \"transform\": [{\"on\": \"Number employed\", \"regression\": \"Annual Payroll\", \"params\": true}, {\"calculate\": \"datum.coef[0]\", \"as\": \"intercept\"}, {\"calculate\": \"datum.coef[1]\", \"as\": \"slope\"}]}, {\"data\": {\"name\": \"data-5aebbbfe172d182398473a85af262235\"}, \"mark\": {\"type\": \"text\", \"align\": \"left\"}, \"encoding\": {\"text\": {\"type\": \"nominal\", \"field\": \"rSquared\"}, \"x\": {\"value\": 20}, \"y\": {\"value\": 20}}, \"transform\": [{\"on\": \"Number employed\", \"regression\": \"Annual Payroll\", \"params\": true}]}], \"data\": {\"name\": \"data-5aebbbfe172d182398473a85af262235\"}, \"$schema\": \"https://vega.github.io/schema/vega-lite/v4.8.1.json\", \"datasets\": {\"data-5aebbbfe172d182398473a85af262235\": [{\"State\": \"Mississippi\", \"Veteran status\": \"004\", \"Annual Payroll\": 14795777, \"Number employed\": 455185, \"State code\": \"28\", \"Description\": \"Nonveteran\"}, {\"State\": \"Missouri\", \"Veteran status\": \"004\", \"Annual Payroll\": 38813817, \"Number employed\": 1029880, \"State code\": \"29\", \"Description\": \"Nonveteran\"}, {\"State\": \"Montana\", \"Veteran status\": \"004\", \"Annual Payroll\": 6656895, \"Number employed\": 202022, \"State code\": \"30\", \"Description\": \"Nonveteran\"}, {\"State\": \"Nebraska\", \"Veteran status\": \"004\", \"Annual Payroll\": 17018802, \"Number employed\": 407535, \"State code\": \"31\", \"Description\": \"Nonveteran\"}, {\"State\": \"Nevada\", \"Veteran status\": \"004\", \"Annual Payroll\": 21868538, \"Number employed\": 578026, \"State code\": \"32\", \"Description\": \"Nonveteran\"}, {\"State\": \"New Hampshire\", \"Veteran status\": \"004\", \"Annual Payroll\": 11465496, \"Number employed\": 260161, \"State code\": \"33\", \"Description\": \"Nonveteran\"}, {\"State\": \"New Jersey\", \"Veteran status\": \"004\", \"Annual Payroll\": 84812933, \"Number employed\": 1868677, \"State code\": \"34\", \"Description\": \"Nonveteran\"}, {\"State\": \"New Mexico\", \"Veteran status\": \"004\", \"Annual Payroll\": 10230560, \"Number employed\": 279520, \"State code\": \"35\", \"Description\": \"Nonveteran\"}, {\"State\": \"New York\", \"Veteran status\": \"004\", \"Annual Payroll\": 201560779, \"Number employed\": 3872199, \"State code\": \"36\", \"Description\": \"Nonveteran\"}, {\"State\": \"North Carolina\", \"Veteran status\": \"004\", \"Annual Payroll\": 62241911, \"Number employed\": 1635163, \"State code\": \"37\", \"Description\": \"Nonveteran\"}, {\"State\": \"North Dakota\", \"Veteran status\": \"004\", \"Annual Payroll\": 7554639, \"Number employed\": 151257, \"State code\": \"38\", \"Description\": \"Nonveteran\"}, {\"State\": \"Ohio\", \"Veteran status\": \"004\", \"Annual Payroll\": 85941735, \"Number employed\": 2121665, \"State code\": \"39\", \"Description\": \"Nonveteran\"}, {\"State\": \"Oklahoma\", \"Veteran status\": \"004\", \"Annual Payroll\": 24962104, \"Number employed\": 651231, \"State code\": \"40\", \"Description\": \"Nonveteran\"}, {\"State\": \"Oregon\", \"Veteran status\": \"004\", \"Annual Payroll\": 32420762, \"Number employed\": 800340, \"State code\": \"41\", \"Description\": \"Nonveteran\"}, {\"State\": \"Pennsylvania\", \"Veteran status\": \"004\", \"Annual Payroll\": 101290547, \"Number employed\": 2269834, \"State code\": \"42\", \"Description\": \"Nonveteran\"}, {\"State\": \"Rhode Island\", \"Veteran status\": \"004\", \"Annual Payroll\": 9015231, \"Number employed\": 195006, \"State code\": \"44\", \"Description\": \"Nonveteran\"}, {\"State\": \"South Carolina\", \"Veteran status\": \"004\", \"Annual Payroll\": 25889832, \"Number employed\": 703321, \"State code\": \"45\", \"Description\": \"Nonveteran\"}, {\"State\": \"South Dakota\", \"Veteran status\": \"004\", \"Annual Payroll\": 5559701, \"Number employed\": 150764, \"State code\": \"46\", \"Description\": \"Nonveteran\"}, {\"State\": \"Tennessee\", \"Veteran status\": \"004\", \"Annual Payroll\": 44403186, \"Number employed\": 1092505, \"State code\": \"47\", \"Description\": \"Nonveteran\"}, {\"State\": \"Texas\", \"Veteran status\": \"004\", \"Annual Payroll\": 216150915, \"Number employed\": 4812332, \"State code\": \"48\", \"Description\": \"Nonveteran\"}, {\"State\": \"Vermont\", \"Veteran status\": \"004\", \"Annual Payroll\": 4314807, \"Number employed\": 106738, \"State code\": \"50\", \"Description\": \"Nonveteran\"}, {\"State\": \"Utah\", \"Veteran status\": \"004\", \"Annual Payroll\": 24397384, \"Number employed\": 598991, \"State code\": \"49\", \"Description\": \"Nonveteran\"}, {\"State\": \"Virginia\", \"Veteran status\": \"004\", \"Annual Payroll\": 65163905, \"Number employed\": 1390422, \"State code\": \"51\", \"Description\": \"Nonveteran\"}, {\"State\": \"Washington\", \"Veteran status\": \"004\", \"Annual Payroll\": 61008123, \"Number employed\": 1276781, \"State code\": \"53\", \"Description\": \"Nonveteran\"}, {\"State\": \"West Virginia\", \"Veteran status\": \"004\", \"Annual Payroll\": 8593959, \"Number employed\": 242042, \"State code\": \"54\", \"Description\": \"Nonveteran\"}, {\"State\": \"Wisconsin\", \"Veteran status\": \"004\", \"Annual Payroll\": 52758062, \"Number employed\": 1260230, \"State code\": \"55\", \"Description\": \"Nonveteran\"}, {\"State\": \"Wyoming\", \"Veteran status\": \"004\", \"Annual Payroll\": 5194514, \"Number employed\": 129591, \"State code\": \"56\", \"Description\": \"Nonveteran\"}, {\"State\": \"Alabama\", \"Veteran status\": \"004\", \"Annual Payroll\": 28760518, \"Number employed\": 739601, \"State code\": \"01\", \"Description\": \"Nonveteran\"}, {\"State\": \"Alaska\", \"Veteran status\": \"004\", \"Annual Payroll\": 6417616, \"Number employed\": 117140, \"State code\": \"02\", \"Description\": \"Nonveteran\"}, {\"State\": \"Arizona\", \"Veteran status\": \"004\", \"Annual Payroll\": 44161969, \"Number employed\": 1109578, \"State code\": \"04\", \"Description\": \"Nonveteran\"}, {\"State\": \"Arkansas\", \"Veteran status\": \"004\", \"Annual Payroll\": 15252019, \"Number employed\": 446845, \"State code\": \"05\", \"Description\": \"Nonveteran\"}, {\"State\": \"California\", \"Veteran status\": \"004\", \"Annual Payroll\": 362022324, \"Number employed\": 7220766, \"State code\": \"06\", \"Description\": \"Nonveteran\"}, {\"State\": \"Colorado\", \"Veteran status\": \"004\", \"Annual Payroll\": 54299948, \"Number employed\": 1171662, \"State code\": \"08\", \"Description\": \"Nonveteran\"}, {\"State\": \"Delaware\", \"Veteran status\": \"004\", \"Annual Payroll\": 7599401, \"Number employed\": 161935, \"State code\": \"10\", \"Description\": \"Nonveteran\"}, {\"State\": \"District of Columbia\", \"Veteran status\": \"004\", \"Annual Payroll\": 9525266, \"Number employed\": 145408, \"State code\": \"11\", \"Description\": \"Nonveteran\"}, {\"State\": \"Connecticut\", \"Veteran status\": \"004\", \"Annual Payroll\": 34290026, \"Number employed\": 631100, \"State code\": \"09\", \"Description\": \"Nonveteran\"}, {\"State\": \"Florida\", \"Veteran status\": \"004\", \"Annual Payroll\": 140705405, \"Number employed\": 3613373, \"State code\": \"12\", \"Description\": \"Nonveteran\"}, {\"State\": \"Georgia\", \"Veteran status\": \"004\", \"Annual Payroll\": 69211417, \"Number employed\": 1649540, \"State code\": \"13\", \"Description\": \"Nonveteran\"}, {\"State\": \"Idaho\", \"Veteran status\": \"004\", \"Annual Payroll\": 9982834, \"Number employed\": 323705, \"State code\": \"16\", \"Description\": \"Nonveteran\"}, {\"State\": \"Hawaii\", \"Veteran status\": \"004\", \"Annual Payroll\": 9887895, \"Number employed\": 238818, \"State code\": \"15\", \"Description\": \"Nonveteran\"}, {\"State\": \"Illinois\", \"Veteran status\": \"004\", \"Annual Payroll\": 125867248, \"Number employed\": 2513983, \"State code\": \"17\", \"Description\": \"Nonveteran\"}, {\"State\": \"Indiana\", \"Veteran status\": \"004\", \"Annual Payroll\": 46734372, \"Number employed\": 1195249, \"State code\": \"18\", \"Description\": \"Nonveteran\"}, {\"State\": \"Iowa\", \"Veteran status\": \"004\", \"Annual Payroll\": 22262283, \"Number employed\": 576854, \"State code\": \"19\", \"Description\": \"Nonveteran\"}, {\"State\": \"Kansas\", \"Veteran status\": \"004\", \"Annual Payroll\": 22395929, \"Number employed\": 545985, \"State code\": \"20\", \"Description\": \"Nonveteran\"}, {\"State\": \"Kentucky\", \"Veteran status\": \"004\", \"Annual Payroll\": 24565653, \"Number employed\": 678341, \"State code\": \"21\", \"Description\": \"Nonveteran\"}, {\"State\": \"Louisiana\", \"Veteran status\": \"004\", \"Annual Payroll\": 33318516, \"Number employed\": 826959, \"State code\": \"22\", \"Description\": \"Nonveteran\"}, {\"State\": \"Maine\", \"Veteran status\": \"004\", \"Annual Payroll\": 8308246, \"Number employed\": 234653, \"State code\": \"23\", \"Description\": \"Nonveteran\"}, {\"State\": \"Maryland\", \"Veteran status\": \"004\", \"Annual Payroll\": 51891291, \"Number employed\": 1058914, \"State code\": \"24\", \"Description\": \"Nonveteran\"}, {\"State\": \"Massachusetts\", \"Veteran status\": \"004\", \"Annual Payroll\": 75058141, \"Number employed\": 1389045, \"State code\": \"25\", \"Description\": \"Nonveteran\"}, {\"State\": \"Michigan\", \"Veteran status\": \"004\", \"Annual Payroll\": 80785761, \"Number employed\": 1938325, \"State code\": \"26\", \"Description\": \"Nonveteran\"}, {\"State\": \"Minnesota\", \"Veteran status\": \"004\", \"Annual Payroll\": 48460685, \"Number employed\": 1128806, \"State code\": \"27\", \"Description\": \"Nonveteran\"}, {\"State\": \"Mississippi\", \"Veteran status\": \"002\", \"Annual Payroll\": 1231487, \"Number employed\": 35992, \"State code\": \"28\", \"Description\": \"Veteran\"}, {\"State\": \"Missouri\", \"Veteran status\": \"002\", \"Annual Payroll\": 3473129, \"Number employed\": 87010, \"State code\": \"29\", \"Description\": \"Veteran\"}, {\"State\": \"Montana\", \"Veteran status\": \"002\", \"Annual Payroll\": 781532, \"Number employed\": 18138, \"State code\": \"30\", \"Description\": \"Veteran\"}, {\"State\": \"Nebraska\", \"Veteran status\": \"002\", \"Annual Payroll\": 1235848, \"Number employed\": 36561, \"State code\": \"31\", \"Description\": \"Veteran\"}, {\"State\": \"Nevada\", \"Veteran status\": \"002\", \"Annual Payroll\": 1693017, \"Number employed\": 38466, \"State code\": \"32\", \"Description\": \"Veteran\"}, {\"State\": \"New Hampshire\", \"Veteran status\": \"002\", \"Annual Payroll\": 872082, \"Number employed\": 19406, \"State code\": \"33\", \"Description\": \"Veteran\"}, {\"State\": \"New Jersey\", \"Veteran status\": \"002\", \"Annual Payroll\": 5565859, \"Number employed\": 109561, \"State code\": \"34\", \"Description\": \"Veteran\"}, {\"State\": \"New Mexico\", \"Veteran status\": \"002\", \"Annual Payroll\": 661434, \"Number employed\": 15671, \"State code\": \"35\", \"Description\": \"Veteran\"}, {\"State\": \"New York\", \"Veteran status\": \"002\", \"Annual Payroll\": 9510283, \"Number employed\": 175842, \"State code\": \"36\", \"Description\": \"Veteran\"}, {\"State\": \"North Carolina\", \"Veteran status\": \"002\", \"Annual Payroll\": 5846932, \"Number employed\": 141318, \"State code\": \"37\", \"Description\": \"Veteran\"}, {\"State\": \"North Dakota\", \"Veteran status\": \"002\", \"Annual Payroll\": 0, \"Number employed\": 0, \"State code\": \"38\", \"Description\": \"Veteran\"}, {\"State\": \"Ohio\", \"Veteran status\": \"002\", \"Annual Payroll\": 4905298, \"Number employed\": 106201, \"State code\": \"39\", \"Description\": \"Veteran\"}, {\"State\": \"Oklahoma\", \"Veteran status\": \"002\", \"Annual Payroll\": 1823306, \"Number employed\": 37476, \"State code\": \"40\", \"Description\": \"Veteran\"}, {\"State\": \"Oregon\", \"Veteran status\": \"002\", \"Annual Payroll\": 2267210, \"Number employed\": 60759, \"State code\": \"41\", \"Description\": \"Veteran\"}, {\"State\": \"Pennsylvania\", \"Veteran status\": \"002\", \"Annual Payroll\": 6491567, \"Number employed\": 154421, \"State code\": \"42\", \"Description\": \"Veteran\"}, {\"State\": \"Rhode Island\", \"Veteran status\": \"002\", \"Annual Payroll\": 646769, \"Number employed\": 14598, \"State code\": \"44\", \"Description\": \"Veteran\"}, {\"State\": \"South Carolina\", \"Veteran status\": \"002\", \"Annual Payroll\": 3360547, \"Number employed\": 108685, \"State code\": \"45\", \"Description\": \"Veteran\"}, {\"State\": \"South Dakota\", \"Veteran status\": \"002\", \"Annual Payroll\": 411148, \"Number employed\": 10206, \"State code\": \"46\", \"Description\": \"Veteran\"}, {\"State\": \"Tennessee\", \"Veteran status\": \"002\", \"Annual Payroll\": 3464277, \"Number employed\": 81467, \"State code\": \"47\", \"Description\": \"Veteran\"}, {\"State\": \"Texas\", \"Veteran status\": \"002\", \"Annual Payroll\": 14240565, \"Number employed\": 314914, \"State code\": \"48\", \"Description\": \"Veteran\"}, {\"State\": \"Vermont\", \"Veteran status\": \"002\", \"Annual Payroll\": 384626, \"Number employed\": 10788, \"State code\": \"50\", \"Description\": \"Veteran\"}, {\"State\": \"Utah\", \"Veteran status\": \"002\", \"Annual Payroll\": 1559188, \"Number employed\": 37578, \"State code\": \"49\", \"Description\": \"Veteran\"}, {\"State\": \"Virginia\", \"Veteran status\": \"002\", \"Annual Payroll\": 0, \"Number employed\": 0, \"State code\": \"51\", \"Description\": \"Veteran\"}, {\"State\": \"Washington\", \"Veteran status\": \"002\", \"Annual Payroll\": 3571633, \"Number employed\": 76032, \"State code\": \"53\", \"Description\": \"Veteran\"}, {\"State\": \"West Virginia\", \"Veteran status\": \"002\", \"Annual Payroll\": 505198, \"Number employed\": 11882, \"State code\": \"54\", \"Description\": \"Veteran\"}, {\"State\": \"Wisconsin\", \"Veteran status\": \"002\", \"Annual Payroll\": 2655824, \"Number employed\": 61992, \"State code\": \"55\", \"Description\": \"Veteran\"}, {\"State\": \"Wyoming\", \"Veteran status\": \"002\", \"Annual Payroll\": 0, \"Number employed\": 0, \"State code\": \"56\", \"Description\": \"Veteran\"}, {\"State\": \"Alabama\", \"Veteran status\": \"002\", \"Annual Payroll\": 4133014, \"Number employed\": 78983, \"State code\": \"01\", \"Description\": \"Veteran\"}, {\"State\": \"Alaska\", \"Veteran status\": \"002\", \"Annual Payroll\": 436671, \"Number employed\": 7986, \"State code\": \"02\", \"Description\": \"Veteran\"}, {\"State\": \"Arizona\", \"Veteran status\": \"002\", \"Annual Payroll\": 3486649, \"Number employed\": 86706, \"State code\": \"04\", \"Description\": \"Veteran\"}, {\"State\": \"Arkansas\", \"Veteran status\": \"002\", \"Annual Payroll\": 1480370, \"Number employed\": 35706, \"State code\": \"05\", \"Description\": \"Veteran\"}, {\"State\": \"California\", \"Veteran status\": \"002\", \"Annual Payroll\": 21928519, \"Number employed\": 383632, \"State code\": \"06\", \"Description\": \"Veteran\"}, {\"State\": \"Colorado\", \"Veteran status\": \"002\", \"Annual Payroll\": 2920984, \"Number employed\": 54458, \"State code\": \"08\", \"Description\": \"Veteran\"}, {\"State\": \"Delaware\", \"Veteran status\": \"002\", \"Annual Payroll\": 819913, \"Number employed\": 17340, \"State code\": \"10\", \"Description\": \"Veteran\"}, {\"State\": \"District of Columbia\", \"Veteran status\": \"002\", \"Annual Payroll\": 598838, \"Number employed\": 9389, \"State code\": \"11\", \"Description\": \"Veteran\"}, {\"State\": \"Connecticut\", \"Veteran status\": \"002\", \"Annual Payroll\": 2542768, \"Number employed\": 41760, \"State code\": \"09\", \"Description\": \"Veteran\"}, {\"State\": \"Florida\", \"Veteran status\": \"002\", \"Annual Payroll\": 10776435, \"Number employed\": 244153, \"State code\": \"12\", \"Description\": \"Veteran\"}, {\"State\": \"Georgia\", \"Veteran status\": \"002\", \"Annual Payroll\": 6025794, \"Number employed\": 152272, \"State code\": \"13\", \"Description\": \"Veteran\"}, {\"State\": \"Idaho\", \"Veteran status\": \"002\", \"Annual Payroll\": 420813, \"Number employed\": 14845, \"State code\": \"16\", \"Description\": \"Veteran\"}, {\"State\": \"Hawaii\", \"Veteran status\": \"002\", \"Annual Payroll\": 388485, \"Number employed\": 8414, \"State code\": \"15\", \"Description\": \"Veteran\"}, {\"State\": \"Illinois\", \"Veteran status\": \"002\", \"Annual Payroll\": 5143044, \"Number employed\": 99219, \"State code\": \"17\", \"Description\": \"Veteran\"}, {\"State\": \"Indiana\", \"Veteran status\": \"002\", \"Annual Payroll\": 3264250, \"Number employed\": 76382, \"State code\": \"18\", \"Description\": \"Veteran\"}, {\"State\": \"Iowa\", \"Veteran status\": \"002\", \"Annual Payroll\": 0, \"Number employed\": 0, \"State code\": \"19\", \"Description\": \"Veteran\"}, {\"State\": \"Kansas\", \"Veteran status\": \"002\", \"Annual Payroll\": 1207885, \"Number employed\": 29716, \"State code\": \"20\", \"Description\": \"Veteran\"}, {\"State\": \"Kentucky\", \"Veteran status\": \"002\", \"Annual Payroll\": 0, \"Number employed\": 0, \"State code\": \"21\", \"Description\": \"Veteran\"}, {\"State\": \"Louisiana\", \"Veteran status\": \"002\", \"Annual Payroll\": 0, \"Number employed\": 0, \"State code\": \"22\", \"Description\": \"Veteran\"}, {\"State\": \"Maine\", \"Veteran status\": \"002\", \"Annual Payroll\": 623193, \"Number employed\": 15346, \"State code\": \"23\", \"Description\": \"Veteran\"}, {\"State\": \"Maryland\", \"Veteran status\": \"002\", \"Annual Payroll\": 4764328, \"Number employed\": 83327, \"State code\": \"24\", \"Description\": \"Veteran\"}, {\"State\": \"Massachusetts\", \"Veteran status\": \"002\", \"Annual Payroll\": 4619074, \"Number employed\": 85456, \"State code\": \"25\", \"Description\": \"Veteran\"}, {\"State\": \"Michigan\", \"Veteran status\": \"002\", \"Annual Payroll\": 4575573, \"Number employed\": 110984, \"State code\": \"26\", \"Description\": \"Veteran\"}, {\"State\": \"Minnesota\", \"Veteran status\": \"002\", \"Annual Payroll\": 3287652, \"Number employed\": 85591, \"State code\": \"27\", \"Description\": \"Veteran\"}, {\"State\": \"Mississippi\", \"Veteran status\": \"003\", \"Annual Payroll\": 352901, \"Number employed\": 11786, \"State code\": \"28\", \"Description\": \"Equal\"}, {\"State\": \"Missouri\", \"Veteran status\": \"003\", \"Annual Payroll\": 0, \"Number employed\": 0, \"State code\": \"29\", \"Description\": \"Equal\"}, {\"State\": \"Montana\", \"Veteran status\": \"003\", \"Annual Payroll\": 0, \"Number employed\": 0, \"State code\": \"30\", \"Description\": \"Equal\"}, {\"State\": \"Nebraska\", \"Veteran status\": \"003\", \"Annual Payroll\": 399807, \"Number employed\": 13798, \"State code\": \"31\", \"Description\": \"Equal\"}, {\"State\": \"Nevada\", \"Veteran status\": \"003\", \"Annual Payroll\": 541991, \"Number employed\": 13500, \"State code\": \"32\", \"Description\": \"Equal\"}, {\"State\": \"New Hampshire\", \"Veteran status\": \"003\", \"Annual Payroll\": 0, \"Number employed\": 0, \"State code\": \"33\", \"Description\": \"Equal\"}, {\"State\": \"New Jersey\", \"Veteran status\": \"003\", \"Annual Payroll\": 1661207, \"Number employed\": 33630, \"State code\": \"34\", \"Description\": \"Equal\"}, {\"State\": \"New Mexico\", \"Veteran status\": \"003\", \"Annual Payroll\": 404330, \"Number employed\": 13107, \"State code\": \"35\", \"Description\": \"Equal\"}, {\"State\": \"New York\", \"Veteran status\": \"003\", \"Annual Payroll\": 2477663, \"Number employed\": 40584, \"State code\": \"36\", \"Description\": \"Equal\"}, {\"State\": \"North Carolina\", \"Veteran status\": \"003\", \"Annual Payroll\": 1609692, \"Number employed\": 41005, \"State code\": \"37\", \"Description\": \"Equal\"}, {\"State\": \"North Dakota\", \"Veteran status\": \"003\", \"Annual Payroll\": 154407, \"Number employed\": 5341, \"State code\": \"38\", \"Description\": \"Equal\"}, {\"State\": \"Ohio\", \"Veteran status\": \"003\", \"Annual Payroll\": 1215382, \"Number employed\": 31207, \"State code\": \"39\", \"Description\": \"Equal\"}, {\"State\": \"Oklahoma\", \"Veteran status\": \"003\", \"Annual Payroll\": 606613, \"Number employed\": 17315, \"State code\": \"40\", \"Description\": \"Equal\"}, {\"State\": \"Oregon\", \"Veteran status\": \"003\", \"Annual Payroll\": 938568, \"Number employed\": 31763, \"State code\": \"41\", \"Description\": \"Equal\"}, {\"State\": \"Pennsylvania\", \"Veteran status\": \"003\", \"Annual Payroll\": 1594042, \"Number employed\": 41438, \"State code\": \"42\", \"Description\": \"Equal\"}, {\"State\": \"Rhode Island\", \"Veteran status\": \"003\", \"Annual Payroll\": 111204, \"Number employed\": 3330, \"State code\": \"44\", \"Description\": \"Equal\"}, {\"State\": \"South Carolina\", \"Veteran status\": \"003\", \"Annual Payroll\": 1027216, \"Number employed\": 38464, \"State code\": \"45\", \"Description\": \"Equal\"}, {\"State\": \"South Dakota\", \"Veteran status\": \"003\", \"Annual Payroll\": 231239, \"Number employed\": 8074, \"State code\": \"46\", \"Description\": \"Equal\"}, {\"State\": \"Tennessee\", \"Veteran status\": \"003\", \"Annual Payroll\": 0, \"Number employed\": 0, \"State code\": \"47\", \"Description\": \"Equal\"}, {\"State\": \"Texas\", \"Veteran status\": \"003\", \"Annual Payroll\": 4674646, \"Number employed\": 124581, \"State code\": \"48\", \"Description\": \"Equal\"}, {\"State\": \"Vermont\", \"Veteran status\": \"003\", \"Annual Payroll\": 0, \"Number employed\": 0, \"State code\": \"50\", \"Description\": \"Equal\"}, {\"State\": \"Utah\", \"Veteran status\": \"003\", \"Annual Payroll\": 878590, \"Number employed\": 18640, \"State code\": \"49\", \"Description\": \"Equal\"}, {\"State\": \"Virginia\", \"Veteran status\": \"003\", \"Annual Payroll\": 1926065, \"Number employed\": 41312, \"State code\": \"51\", \"Description\": \"Equal\"}, {\"State\": \"Washington\", \"Veteran status\": \"003\", \"Annual Payroll\": 1820680, \"Number employed\": 47152, \"State code\": \"53\", \"Description\": \"Equal\"}, {\"State\": \"West Virginia\", \"Veteran status\": \"003\", \"Annual Payroll\": 128018, \"Number employed\": 5327, \"State code\": \"54\", \"Description\": \"Equal\"}, {\"State\": \"Wisconsin\", \"Veteran status\": \"003\", \"Annual Payroll\": 1072317, \"Number employed\": 41774, \"State code\": \"55\", \"Description\": \"Equal\"}, {\"State\": \"Wyoming\", \"Veteran status\": \"003\", \"Annual Payroll\": 67618, \"Number employed\": 1798, \"State code\": \"56\", \"Description\": \"Equal\"}, {\"State\": \"Alabama\", \"Veteran status\": \"003\", \"Annual Payroll\": 716881, \"Number employed\": 17514, \"State code\": \"01\", \"Description\": \"Equal\"}, {\"State\": \"Alaska\", \"Veteran status\": \"003\", \"Annual Payroll\": 82856, \"Number employed\": 1900, \"State code\": \"02\", \"Description\": \"Equal\"}, {\"State\": \"Arizona\", \"Veteran status\": \"003\", \"Annual Payroll\": 2079093, \"Number employed\": 57064, \"State code\": \"04\", \"Description\": \"Equal\"}, {\"State\": \"Arkansas\", \"Veteran status\": \"003\", \"Annual Payroll\": 524247, \"Number employed\": 14323, \"State code\": \"05\", \"Description\": \"Equal\"}, {\"State\": \"California\", \"Veteran status\": \"003\", \"Annual Payroll\": 5717828, \"Number employed\": 137378, \"State code\": \"06\", \"Description\": \"Equal\"}, {\"State\": \"Colorado\", \"Veteran status\": \"003\", \"Annual Payroll\": 951599, \"Number employed\": 19542, \"State code\": \"08\", \"Description\": \"Equal\"}, {\"State\": \"Delaware\", \"Veteran status\": \"003\", \"Annual Payroll\": 101131, \"Number employed\": 3055, \"State code\": \"10\", \"Description\": \"Equal\"}, {\"State\": \"District of Columbia\", \"Veteran status\": \"003\", \"Annual Payroll\": 0, \"Number employed\": 0, \"State code\": \"11\", \"Description\": \"Equal\"}, {\"State\": \"Connecticut\", \"Veteran status\": \"003\", \"Annual Payroll\": 0, \"Number employed\": 0, \"State code\": \"09\", \"Description\": \"Equal\"}, {\"State\": \"Florida\", \"Veteran status\": \"003\", \"Annual Payroll\": 4444618, \"Number employed\": 114930, \"State code\": \"12\", \"Description\": \"Equal\"}, {\"State\": \"Georgia\", \"Veteran status\": \"003\", \"Annual Payroll\": 1285087, \"Number employed\": 38125, \"State code\": \"13\", \"Description\": \"Equal\"}, {\"State\": \"Idaho\", \"Veteran status\": \"003\", \"Annual Payroll\": 270449, \"Number employed\": 11047, \"State code\": \"16\", \"Description\": \"Equal\"}, {\"State\": \"Hawaii\", \"Veteran status\": \"003\", \"Annual Payroll\": 251626, \"Number employed\": 7344, \"State code\": \"15\", \"Description\": \"Equal\"}, {\"State\": \"Illinois\", \"Veteran status\": \"003\", \"Annual Payroll\": 1858580, \"Number employed\": 47451, \"State code\": \"17\", \"Description\": \"Equal\"}, {\"State\": \"Indiana\", \"Veteran status\": \"003\", \"Annual Payroll\": 884289, \"Number employed\": 24026, \"State code\": \"18\", \"Description\": \"Equal\"}, {\"State\": \"Iowa\", \"Veteran status\": \"003\", \"Annual Payroll\": 681865, \"Number employed\": 16274, \"State code\": \"19\", \"Description\": \"Equal\"}, {\"State\": \"Kansas\", \"Veteran status\": \"003\", \"Annual Payroll\": 454930, \"Number employed\": 15381, \"State code\": \"20\", \"Description\": \"Equal\"}, {\"State\": \"Kentucky\", \"Veteran status\": \"003\", \"Annual Payroll\": 494752, \"Number employed\": 15047, \"State code\": \"21\", \"Description\": \"Equal\"}, {\"State\": \"Louisiana\", \"Veteran status\": \"003\", \"Annual Payroll\": 648779, \"Number employed\": 21966, \"State code\": \"22\", \"Description\": \"Equal\"}, {\"State\": \"Maine\", \"Veteran status\": \"003\", \"Annual Payroll\": 272931, \"Number employed\": 7580, \"State code\": \"23\", \"Description\": \"Equal\"}, {\"State\": \"Maryland\", \"Veteran status\": \"003\", \"Annual Payroll\": 672154, \"Number employed\": 12876, \"State code\": \"24\", \"Description\": \"Equal\"}, {\"State\": \"Massachusetts\", \"Veteran status\": \"003\", \"Annual Payroll\": 1267496, \"Number employed\": 22646, \"State code\": \"25\", \"Description\": \"Equal\"}, {\"State\": \"Michigan\", \"Veteran status\": \"003\", \"Annual Payroll\": 1636171, \"Number employed\": 40141, \"State code\": \"26\", \"Description\": \"Equal\"}, {\"State\": \"Minnesota\", \"Veteran status\": \"003\", \"Annual Payroll\": 0, \"Number employed\": 0, \"State code\": \"27\", \"Description\": \"Equal\"}]}}, {\"mode\": \"vega-lite\"});\n",
       "</script>"
      ],
      "text/plain": [
       "alt.LayerChart(...)"
      ]
     },
     "execution_count": 12,
     "metadata": {},
     "output_type": "execute_result"
    }
   ],
   "source": [
    "base = alt.Chart(df2[df2['Veteran status'] != '001']).mark_point().encode(\n",
    "    x='Number employed',\n",
    "    y='Annual Payroll',\n",
    "    color = 'Description',\n",
    "    tooltip = 'State'\n",
    ").properties(title = 'Annual Payroll vs. # Employed by Veteran Status')\n",
    "\n",
    "reg = base.transform_regression('Number employed', 'Annual Payroll').mark_line().encode()\n",
    "\n",
    "params1 = alt.Chart(df2[df2['Veteran status'] != '001']).transform_regression(\n",
    "    'Number employed', 'Annual Payroll', params=True\n",
    ").transform_calculate(\n",
    "    intercept='datum.coef[0]',\n",
    "    slope='datum.coef[1]',\n",
    ").mark_text(align='left').encode(\n",
    "    x=alt.value(200),  # pixels from left\n",
    "    y=alt.value(60),  # pixels from top\n",
    "    text='slope:N'\n",
    ")\n",
    "\n",
    "params2 = alt.Chart(df2[df2['Veteran status'] != '001']).transform_regression(\n",
    "    'Number employed', 'Annual Payroll', params=True\n",
    ").mark_text(align='left').encode(\n",
    "    x=alt.value(20),  # pixels from left\n",
    "    y=alt.value(20),  # pixels from top\n",
    "    text='rSquared:N'\n",
    ")\n",
    "\n",
    "base + reg + params1 + params2"
   ]
  },
  {
   "cell_type": "markdown",
   "id": "6aae0efb",
   "metadata": {},
   "source": [
    "# 3 - How many employees does the average employer employ in each state?"
   ]
  },
  {
   "cell_type": "markdown",
   "id": "562323f9",
   "metadata": {},
   "source": [
    "This time, we will need to merge data from two separate tables, but the process is still the same - API call, DataFrame, type conversion. From the Characteristics of Businesses API, we get the employee count by state (which we convert to an integer), and from the Characteristics of Business Owners API, we get the employer count by state (which we also convert to an integer). "
   ]
  },
  {
   "cell_type": "code",
   "execution_count": 13,
   "id": "45417e55",
   "metadata": {},
   "outputs": [],
   "source": [
    "HOST = 'https://api.census.gov/data'\n",
    "year = '2018'\n",
    "dataset = 'abscb'\n",
    "                            \n",
    "base_url = '/'.join([HOST, year, dataset])\n",
    "\n",
    "predicates = {}\n",
    "\n",
    "get_vars = [\"NAME\", \"EMP\"]\n",
    "\n",
    "predicates['get'] = ','.join(get_vars)\n",
    "\n",
    "predicates['for'] = 'state:*'\n",
    "\n",
    "r = requests.get(base_url, params = predicates)\n",
    "\n",
    "col_names = ['State', 'Number employed','State code'] #Same order as request\n",
    "\n",
    "empdf = pd.DataFrame(columns = col_names, data = r.json()[1:])\n",
    "\n",
    "empdf['Number employed'] = empdf['Number employed'].astype(int)"
   ]
  },
  {
   "cell_type": "code",
   "execution_count": 14,
   "id": "be4179ce",
   "metadata": {},
   "outputs": [],
   "source": [
    "HOST = 'https://api.census.gov/data'\n",
    "year = '2018'\n",
    "dataset = 'abscbo'\n",
    "\n",
    "base_url = '/'.join([HOST, year, dataset])\n",
    "\n",
    "predicates = {}\n",
    "\n",
    "get_vars = [\"NAME\", \"OWNPDEMP\"]\n",
    "\n",
    "predicates['get'] = ','.join(get_vars)\n",
    "\n",
    "predicates['for'] = 'state:*'\n",
    "\n",
    "r = requests.get(base_url, params = predicates)\n",
    "\n",
    "col_names = ['State', 'Number of owners', 'State code'] #Same order as request\n",
    "\n",
    "owndf = pd.DataFrame(columns = col_names, data = r.json()[1:])\n",
    "\n",
    "owndf['Number of owners'] = owndf['Number of owners'].astype(int)"
   ]
  },
  {
   "cell_type": "markdown",
   "id": "5e463bb9",
   "metadata": {},
   "source": [
    "We then merge these two DataFrames on the State column, which we can do because each DataFrame is of the same length."
   ]
  },
  {
   "cell_type": "code",
   "execution_count": 15,
   "id": "cbba515a",
   "metadata": {},
   "outputs": [],
   "source": [
    "perdf = owndf.merge(empdf, how = \"inner\", on = 'State')"
   ]
  },
  {
   "cell_type": "markdown",
   "id": "f7950ddb",
   "metadata": {},
   "source": [
    "We now drop the unnecessary `State code` columns from the DataFrame."
   ]
  },
  {
   "cell_type": "code",
   "execution_count": 16,
   "id": "e96a444c",
   "metadata": {},
   "outputs": [],
   "source": [
    "perdf = perdf.drop(['State code_x', 'State code_y'], axis = 1)"
   ]
  },
  {
   "cell_type": "markdown",
   "id": "32150113",
   "metadata": {},
   "source": [
    "Finally, we create a new column by dividing each state's number of employees by the number of owners, resulting in the number of employees per employer in each state. "
   ]
  },
  {
   "cell_type": "code",
   "execution_count": 17,
   "id": "ad15e97c",
   "metadata": {},
   "outputs": [],
   "source": [
    "perdf['Employees per Employer'] = perdf['Number employed'] / perdf['Number of owners']"
   ]
  },
  {
   "cell_type": "markdown",
   "id": "4c436c11",
   "metadata": {},
   "source": [
    " Now, we can create a Seaborn `mark_bar` histogram plot of the data. We also add a `mark_rule` indicating the data's mean. "
   ]
  },
  {
   "cell_type": "code",
   "execution_count": 18,
   "id": "52532b4c",
   "metadata": {},
   "outputs": [
    {
     "data": {
      "text/html": [
       "\n",
       "<div id=\"altair-viz-27132235affe40a49b9a62b7ae441f1c\"></div>\n",
       "<script type=\"text/javascript\">\n",
       "  (function(spec, embedOpt){\n",
       "    let outputDiv = document.currentScript.previousElementSibling;\n",
       "    if (outputDiv.id !== \"altair-viz-27132235affe40a49b9a62b7ae441f1c\") {\n",
       "      outputDiv = document.getElementById(\"altair-viz-27132235affe40a49b9a62b7ae441f1c\");\n",
       "    }\n",
       "    const paths = {\n",
       "      \"vega\": \"https://cdn.jsdelivr.net/npm//vega@5?noext\",\n",
       "      \"vega-lib\": \"https://cdn.jsdelivr.net/npm//vega-lib?noext\",\n",
       "      \"vega-lite\": \"https://cdn.jsdelivr.net/npm//vega-lite@4.8.1?noext\",\n",
       "      \"vega-embed\": \"https://cdn.jsdelivr.net/npm//vega-embed@6?noext\",\n",
       "    };\n",
       "\n",
       "    function loadScript(lib) {\n",
       "      return new Promise(function(resolve, reject) {\n",
       "        var s = document.createElement('script');\n",
       "        s.src = paths[lib];\n",
       "        s.async = true;\n",
       "        s.onload = () => resolve(paths[lib]);\n",
       "        s.onerror = () => reject(`Error loading script: ${paths[lib]}`);\n",
       "        document.getElementsByTagName(\"head\")[0].appendChild(s);\n",
       "      });\n",
       "    }\n",
       "\n",
       "    function showError(err) {\n",
       "      outputDiv.innerHTML = `<div class=\"error\" style=\"color:red;\">${err}</div>`;\n",
       "      throw err;\n",
       "    }\n",
       "\n",
       "    function displayChart(vegaEmbed) {\n",
       "      vegaEmbed(outputDiv, spec, embedOpt)\n",
       "        .catch(err => showError(`Javascript Error: ${err.message}<br>This usually means there's a typo in your chart specification. See the javascript console for the full traceback.`));\n",
       "    }\n",
       "\n",
       "    if(typeof define === \"function\" && define.amd) {\n",
       "      requirejs.config({paths});\n",
       "      require([\"vega-embed\"], displayChart, err => showError(`Error loading script: ${err.message}`));\n",
       "    } else if (typeof vegaEmbed === \"function\") {\n",
       "      displayChart(vegaEmbed);\n",
       "    } else {\n",
       "      loadScript(\"vega\")\n",
       "        .then(() => loadScript(\"vega-lite\"))\n",
       "        .then(() => loadScript(\"vega-embed\"))\n",
       "        .catch(showError)\n",
       "        .then(() => displayChart(vegaEmbed));\n",
       "    }\n",
       "  })({\"config\": {\"view\": {\"continuousWidth\": 400, \"continuousHeight\": 300}, \"mark\": {\"color\": \"darkblue\"}}, \"layer\": [{\"mark\": \"bar\", \"encoding\": {\"x\": {\"type\": \"quantitative\", \"bin\": true, \"field\": \"Employees per Employer\"}, \"y\": {\"type\": \"quantitative\", \"aggregate\": \"count\", \"title\": \"Number of States\"}}}, {\"mark\": {\"type\": \"rule\", \"color\": \"red\", \"opacity\": 0.9}, \"encoding\": {\"size\": {\"value\": 5}, \"x\": {\"type\": \"quantitative\", \"aggregate\": \"mean\", \"field\": \"Employees per Employer\", \"title\": \"Employees per Employer\"}}}], \"data\": {\"name\": \"data-49a8a9c028bd5244f4cb3a80734fddf3\"}, \"title\": \"Average number of Employees per Company Owner in the US\", \"$schema\": \"https://vega.github.io/schema/vega-lite/v4.8.1.json\", \"datasets\": {\"data-49a8a9c028bd5244f4cb3a80734fddf3\": [{\"State\": \"Mississippi\", \"Number of owners\": 1158, \"Number employed\": 920447, \"Employees per Employer\": 794.8592400690846}, {\"State\": \"Missouri\", \"Number of owners\": 3564, \"Number employed\": 2464500, \"Employees per Employer\": 691.4983164983165}, {\"State\": \"Montana\", \"Number of owners\": 748, \"Number employed\": 361600, \"Employees per Employer\": 483.42245989304814}, {\"State\": \"Minnesota\", \"Number of owners\": 3210, \"Number employed\": 2673014, \"Employees per Employer\": 832.7146417445483}, {\"State\": \"Nebraska\", \"Number of owners\": 1612, \"Number employed\": 855009, \"Employees per Employer\": 530.4026054590571}, {\"State\": \"Nevada\", \"Number of owners\": 572, \"Number employed\": 1240230, \"Employees per Employer\": 2168.2342657342656}, {\"State\": \"New Hampshire\", \"Number of owners\": 661, \"Number employed\": 584769, \"Employees per Employer\": 884.6732223903177}, {\"State\": \"New Jersey\", \"Number of owners\": 5324, \"Number employed\": 3736734, \"Employees per Employer\": 701.8658903080391}, {\"State\": \"New Mexico\", \"Number of owners\": 788, \"Number employed\": 584145, \"Employees per Employer\": 741.3007614213197}, {\"State\": \"New York\", \"Number of owners\": 8918, \"Number employed\": 8073389, \"Employees per Employer\": 905.2914330567392}, {\"State\": \"North Carolina\", \"Number of owners\": 4256, \"Number employed\": 3679286, \"Employees per Employer\": 864.4938909774436}, {\"State\": \"North Dakota\", \"Number of owners\": 875, \"Number employed\": 333115, \"Employees per Employer\": 380.70285714285717}, {\"State\": \"Ohio\", \"Number of owners\": 6829, \"Number employed\": 4817903, \"Employees per Employer\": 705.5063698931029}, {\"State\": \"Oklahoma\", \"Number of owners\": 2276, \"Number employed\": 1344715, \"Employees per Employer\": 590.8238137082601}, {\"State\": \"Oregon\", \"Number of owners\": 2577, \"Number employed\": 1617123, \"Employees per Employer\": 627.5215366705471}, {\"State\": \"Pennsylvania\", \"Number of owners\": 7344, \"Number employed\": 5556497, \"Employees per Employer\": 756.6036220043572}, {\"State\": \"Rhode Island\", \"Number of owners\": 312, \"Number employed\": 445167, \"Employees per Employer\": 1426.8173076923076}, {\"State\": \"South Carolina\", \"Number of owners\": 2111, \"Number employed\": 1825775, \"Employees per Employer\": 864.8863098057792}, {\"State\": \"South Dakota\", \"Number of owners\": 490, \"Number employed\": 317810, \"Employees per Employer\": 648.5918367346939}, {\"State\": \"Tennessee\", \"Number of owners\": 3184, \"Number employed\": 2635392, \"Employees per Employer\": 827.6984924623116}, {\"State\": \"Texas\", \"Number of owners\": 8943, \"Number employed\": 10562214, \"Employees per Employer\": 1181.059376048306}, {\"State\": \"Vermont\", \"Number of owners\": 749, \"Number employed\": 241404, \"Employees per Employer\": 322.30173564753005}, {\"State\": \"Utah\", \"Number of owners\": 1369, \"Number employed\": 1273415, \"Employees per Employer\": 930.1789627465303}, {\"State\": \"Virginia\", \"Number of owners\": 3498, \"Number employed\": 3293668, \"Employees per Employer\": 941.5860491709549}, {\"State\": \"Washington\", \"Number of owners\": 3404, \"Number employed\": 2752850, \"Employees per Employer\": 808.7103407755582}, {\"State\": \"West Virginia\", \"Number of owners\": 1057, \"Number employed\": 529733, \"Employees per Employer\": 501.16650898770104}, {\"State\": \"Wisconsin\", \"Number of owners\": 4236, \"Number employed\": 2595886, \"Employees per Employer\": 612.8153918791313}, {\"State\": \"Wyoming\", \"Number of owners\": 325, \"Number employed\": 210845, \"Employees per Employer\": 648.7538461538461}, {\"State\": \"Alabama\", \"Number of owners\": 2042, \"Number employed\": 1630135, \"Employees per Employer\": 798.3031341821743}, {\"State\": \"Alaska\", \"Number of owners\": 306, \"Number employed\": 258119, \"Employees per Employer\": 843.5261437908497}, {\"State\": \"Arizona\", \"Number of owners\": 1509, \"Number employed\": 2525257, \"Employees per Employer\": 1673.4638833664678}, {\"State\": \"Arkansas\", \"Number of owners\": 1828, \"Number employed\": 1011278, \"Employees per Employer\": 553.2155361050328}, {\"State\": \"California\", \"Number of owners\": 17719, \"Number employed\": 14991308, \"Employees per Employer\": 846.0583554376658}, {\"State\": \"Colorado\", \"Number of owners\": 2765, \"Number employed\": 2434968, \"Employees per Employer\": 880.6394213381556}, {\"State\": \"Delaware\", \"Number of owners\": 289, \"Number employed\": 406179, \"Employees per Employer\": 1405.4636678200693}, {\"State\": \"District of Columbia\", \"Number of owners\": 307, \"Number employed\": 455652, \"Employees per Employer\": 1484.2084690553745}, {\"State\": \"Idaho\", \"Number of owners\": 1220, \"Number employed\": 598348, \"Employees per Employer\": 490.4491803278689}, {\"State\": \"Connecticut\", \"Number of owners\": 1544, \"Number employed\": 1476827, \"Employees per Employer\": 956.494170984456}, {\"State\": \"Florida\", \"Number of owners\": 6716, \"Number employed\": 8441008, \"Employees per Employer\": 1256.8505062537224}, {\"State\": \"Georgia\", \"Number of owners\": 3168, \"Number employed\": 3805183, \"Employees per Employer\": 1201.1309974747476}, {\"State\": \"Hawaii\", \"Number of owners\": 651, \"Number employed\": 505452, \"Employees per Employer\": 776.4239631336405}, {\"State\": \"Illinois\", \"Number of owners\": 6507, \"Number employed\": 5474518, \"Employees per Employer\": 841.3274934685724}, {\"State\": \"Indiana\", \"Number of owners\": 4142, \"Number employed\": 2747840, \"Employees per Employer\": 663.4089811685176}, {\"State\": \"Iowa\", \"Number of owners\": 2830, \"Number employed\": 1341265, \"Employees per Employer\": 473.9452296819788}, {\"State\": \"Kansas\", \"Number of owners\": 2458, \"Number employed\": 1260598, \"Employees per Employer\": 512.8551668022783}, {\"State\": \"Kentucky\", \"Number of owners\": 2398, \"Number employed\": 1609352, \"Employees per Employer\": 671.1226021684737}, {\"State\": \"Louisiana\", \"Number of owners\": 2433, \"Number employed\": 1671852, \"Employees per Employer\": 687.1565967940813}, {\"State\": \"Maine\", \"Number of owners\": 882, \"Number employed\": 498963, \"Employees per Employer\": 565.7176870748299}, {\"State\": \"Maryland\", \"Number of owners\": 2325, \"Number employed\": 2276097, \"Employees per Employer\": 978.9664516129033}, {\"State\": \"Massachusetts\", \"Number of owners\": 3655, \"Number employed\": 3311909, \"Employees per Employer\": 906.1310533515732}, {\"State\": \"Michigan\", \"Number of owners\": 5063, \"Number employed\": 3937663, \"Employees per Employer\": 777.733162156824}]}}, {\"mode\": \"vega-lite\"});\n",
       "</script>"
      ],
      "text/plain": [
       "alt.LayerChart(...)"
      ]
     },
     "execution_count": 18,
     "metadata": {},
     "output_type": "execute_result"
    }
   ],
   "source": [
    "base = alt.Chart(perdf)\n",
    "\n",
    "bar = base.mark_bar().encode(\n",
    "    x=alt.X('Employees per Employer', bin=True),\n",
    "    y=alt.Y('count()', title = \"Number of States\")\n",
    ")\n",
    "\n",
    "rule = base.mark_rule(color='red', opacity = 0.9).encode(\n",
    "    x= alt.X('mean(Employees per Employer)', title = \"Employees per Employer\"),\n",
    "    size=alt.value(5)\n",
    ")\n",
    "\n",
    "(bar + rule).properties(\n",
    "    title = 'Average number of Employees per Company Owner in the US'\n",
    ").configure_mark(\n",
    "    color = \"darkblue\"\n",
    ")"
   ]
  }
 ],
 "metadata": {
  "kernelspec": {
   "display_name": "Python 3 (ipykernel)",
   "language": "python",
   "name": "python3"
  },
  "language_info": {
   "codemirror_mode": {
    "name": "ipython",
    "version": 3
   },
   "file_extension": ".py",
   "mimetype": "text/x-python",
   "name": "python",
   "nbconvert_exporter": "python",
   "pygments_lexer": "ipython3",
   "version": "3.9.5"
  }
 },
 "nbformat": 4,
 "nbformat_minor": 5
}
