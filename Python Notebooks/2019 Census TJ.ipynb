{
 "cells": [
  {
   "cell_type": "markdown",
   "id": "091aab72",
   "metadata": {},
   "source": [
    "The following code block includes: \n",
    "1. importing the required packages\n",
    "2. creating api request\n",
    "    2a. The variables piece the url together depending on what we are looking for\n",
    "    In this case I wanted to use the characteristics of buisiness dataset\n",
    "    I wanted to specifically look at the # of employees for the US based on owner sex, and ethinic group\n",
    "3. The last portion is for putting the api call into a pandas dataframe and checking it worked properly\n",
    "    3a. Since the main data I wanted to look at was the number of employees, I had to cast the column as an int type\n",
    "4. Finally filtering down to the non hispanic owners only out of the dataset"
   ]
  },
  {
   "cell_type": "code",
   "execution_count": 1,
   "id": "bdc41043",
   "metadata": {},
   "outputs": [
    {
     "name": "stdout",
     "output_type": "stream",
     "text": [
      "<Response [200]>\n",
      "<class 'pandas.core.frame.DataFrame'>\n",
      "RangeIndex: 16 entries, 0 to 15\n",
      "Data columns (total 5 columns):\n",
      " #   Column        Non-Null Count  Dtype \n",
      "---  ------        --------------  ----- \n",
      " 0   Name          16 non-null     object\n",
      " 1   #employees    16 non-null     object\n",
      " 2   sexlabel      16 non-null     object\n",
      " 3   EthinicGroup  16 non-null     object\n",
      " 4   state         16 non-null     object\n",
      "dtypes: object(5)\n",
      "memory usage: 768.0+ bytes\n",
      "None\n",
      "             Name  #employees sexlabel EthinicGroup state\n",
      "0   United States   128196406      001          001     1\n",
      "1   United States    10149257      002          001     1\n",
      "2   United States    45346405      003          001     1\n",
      "3   United States     7970121      004          001     1\n",
      "4   United States     2972140      001          020     1\n",
      "5   United States      722654      002          020     1\n",
      "6   United States     1957790      003          020     1\n",
      "7   United States      291696      004          020     1\n",
      "8   United States      486636      001          028     1\n",
      "9   United States       18732      002          028     1\n",
      "10  United States      146945      003          028     1\n",
      "11  United States      320958      004          028     1\n",
      "12  United States    60007007      001          029     1\n",
      "13  United States     9407871      002          029     1\n",
      "14  United States    43241670      003          029     1\n",
      "15  United States     7357466      004          029     1\n",
      "             Name  #employees sexlabel EthinicGroup state\n",
      "12  United States    60007007      001          029     1\n",
      "13  United States     9407871      002          029     1\n",
      "14  United States    43241670      003          029     1\n",
      "15  United States     7357466      004          029     1\n"
     ]
    }
   ],
   "source": [
    "import requests\n",
    "import json\n",
    "import pandas as pd\n",
    "import seaborn as sns\n",
    "import matplotlib.pyplot as plt\n",
    "#companysumurl = 'https://api.census.gov/data/2018/abscs'\n",
    "#mykey = '91230ee74109c3ff9afff2322b4e9d4a2be6c874***'\n",
    "\n",
    "host = 'https://api.census.gov/data'\n",
    "year = '2018'\n",
    "dataset = 'abscb'\n",
    "base_url1 = '/'.join([host,year,dataset])\n",
    "predicates = {}\n",
    "get_vars = ['NAME','EMP','SEX','ETH_GROUP']\n",
    "col_names = ['Name','#employees','sexlabel','EthinicGroup','state']\n",
    "predicates['get'] =','.join(get_vars)\n",
    "predicates['for']= 'us'\n",
    "r =requests.get(base_url1, params = predicates)\n",
    "print(r)\n",
    "\n",
    "df = pd.DataFrame(columns=col_names,data = r.json()[1:])\n",
    "print(df.info())\n",
    "df['#employees'] = df['#employees'].astype(int)\n",
    "print(df.head(200))\n",
    "nhemp = df[df.EthinicGroup == '029']\n",
    "print(nhemp.head(30))"
   ]
  },
  {
   "cell_type": "markdown",
   "id": "9e4b5e1b",
   "metadata": {},
   "source": [
    "This block is to create meaningful labels for the graphs following, by putting the codes into a dataframe and then inner joining them to get a description instead of just a code for sex.\n",
    "I then filtered the data down to only include the Number of employees and the sex description "
   ]
  },
  {
   "cell_type": "code",
   "execution_count": 2,
   "id": "49209a85",
   "metadata": {},
   "outputs": [],
   "source": [
    "col_names = ['sexlabel','Description']\n",
    "codes = [['001','Total'],['002','Female'],['003','Male'],['004','Equal male to female']]\n",
    "sexcodes = pd.DataFrame(columns = col_names,data = codes)\n",
    "nhemp = nhemp.merge(sexcodes, how='inner',on='sexlabel')\n",
    "nhemp = nhemp[['#employees','Description']]"
   ]
  },
  {
   "cell_type": "markdown",
   "id": "f493d173",
   "metadata": {},
   "source": [
    "The following cell creates the bar graph for Number of employees by gender of Non-Hispanic owned businesses in matplotlib."
   ]
  },
  {
   "cell_type": "code",
   "execution_count": 3,
   "id": "0332598c",
   "metadata": {},
   "outputs": [
    {
     "data": {
      "text/html": [
       "<div>\n",
       "<style scoped>\n",
       "    .dataframe tbody tr th:only-of-type {\n",
       "        vertical-align: middle;\n",
       "    }\n",
       "\n",
       "    .dataframe tbody tr th {\n",
       "        vertical-align: top;\n",
       "    }\n",
       "\n",
       "    .dataframe thead th {\n",
       "        text-align: right;\n",
       "    }\n",
       "</style>\n",
       "<table border=\"1\" class=\"dataframe\">\n",
       "  <thead>\n",
       "    <tr style=\"text-align: right;\">\n",
       "      <th></th>\n",
       "      <th>#employees</th>\n",
       "      <th>Description</th>\n",
       "    </tr>\n",
       "  </thead>\n",
       "  <tbody>\n",
       "    <tr>\n",
       "      <th>0</th>\n",
       "      <td>60007007</td>\n",
       "      <td>Total</td>\n",
       "    </tr>\n",
       "    <tr>\n",
       "      <th>1</th>\n",
       "      <td>9407871</td>\n",
       "      <td>Female</td>\n",
       "    </tr>\n",
       "    <tr>\n",
       "      <th>2</th>\n",
       "      <td>43241670</td>\n",
       "      <td>Male</td>\n",
       "    </tr>\n",
       "    <tr>\n",
       "      <th>3</th>\n",
       "      <td>7357466</td>\n",
       "      <td>Equal male to female</td>\n",
       "    </tr>\n",
       "  </tbody>\n",
       "</table>\n",
       "</div>"
      ],
      "text/plain": [
       "   #employees           Description\n",
       "0    60007007                 Total\n",
       "1     9407871                Female\n",
       "2    43241670                  Male\n",
       "3     7357466  Equal male to female"
      ]
     },
     "execution_count": 3,
     "metadata": {},
     "output_type": "execute_result"
    },
    {
     "data": {
      "image/png": "[encoded data removed]",
      "text/plain": [
       "<Figure size 432x288 with 1 Axes>"
      ]
     },
     "metadata": {
      "needs_background": "light"
     },
     "output_type": "display_data"
    }
   ],
   "source": [
    "ax = nhemp.plot(title = 'Number of employees by gender of Non-Hispanic owned businesses',kind='bar',x='Description')\n",
    "ax.set_xlabel('Gender Group')\n",
    "ax.set_ylabel('# of employees(10 mil)')\n",
    "nhemp.head()"
   ]
  },
  {
   "cell_type": "markdown",
   "id": "d003be83",
   "metadata": {},
   "source": [
    "This next cell shows the similiar process of filtering the main dataset down to only include Businesses owned by Hispanic, and then merging the sexlabel dataframe again to get readable column names"
   ]
  },
  {
   "cell_type": "code",
   "execution_count": 4,
   "id": "6700bee4",
   "metadata": {},
   "outputs": [
    {
     "data": {
      "text/html": [
       "<div>\n",
       "<style scoped>\n",
       "    .dataframe tbody tr th:only-of-type {\n",
       "        vertical-align: middle;\n",
       "    }\n",
       "\n",
       "    .dataframe tbody tr th {\n",
       "        vertical-align: top;\n",
       "    }\n",
       "\n",
       "    .dataframe thead th {\n",
       "        text-align: right;\n",
       "    }\n",
       "</style>\n",
       "<table border=\"1\" class=\"dataframe\">\n",
       "  <thead>\n",
       "    <tr style=\"text-align: right;\">\n",
       "      <th></th>\n",
       "      <th>Name</th>\n",
       "      <th>#employees</th>\n",
       "      <th>sexlabel</th>\n",
       "      <th>EthinicGroup</th>\n",
       "      <th>state</th>\n",
       "      <th>Description</th>\n",
       "    </tr>\n",
       "  </thead>\n",
       "  <tbody>\n",
       "    <tr>\n",
       "      <th>0</th>\n",
       "      <td>United States</td>\n",
       "      <td>2972140</td>\n",
       "      <td>001</td>\n",
       "      <td>020</td>\n",
       "      <td>1</td>\n",
       "      <td>Total</td>\n",
       "    </tr>\n",
       "    <tr>\n",
       "      <th>1</th>\n",
       "      <td>United States</td>\n",
       "      <td>722654</td>\n",
       "      <td>002</td>\n",
       "      <td>020</td>\n",
       "      <td>1</td>\n",
       "      <td>Female</td>\n",
       "    </tr>\n",
       "    <tr>\n",
       "      <th>2</th>\n",
       "      <td>United States</td>\n",
       "      <td>1957790</td>\n",
       "      <td>003</td>\n",
       "      <td>020</td>\n",
       "      <td>1</td>\n",
       "      <td>Male</td>\n",
       "    </tr>\n",
       "    <tr>\n",
       "      <th>3</th>\n",
       "      <td>United States</td>\n",
       "      <td>291696</td>\n",
       "      <td>004</td>\n",
       "      <td>020</td>\n",
       "      <td>1</td>\n",
       "      <td>Equal male to female</td>\n",
       "    </tr>\n",
       "  </tbody>\n",
       "</table>\n",
       "</div>"
      ],
      "text/plain": [
       "            Name  #employees sexlabel EthinicGroup state           Description\n",
       "0  United States     2972140      001          020     1                 Total\n",
       "1  United States      722654      002          020     1                Female\n",
       "2  United States     1957790      003          020     1                  Male\n",
       "3  United States      291696      004          020     1  Equal male to female"
      ]
     },
     "execution_count": 4,
     "metadata": {},
     "output_type": "execute_result"
    }
   ],
   "source": [
    "hemp = df[df.EthinicGroup == '020']\n",
    "\n",
    "hemp = hemp.merge(sexcodes, how='inner',on='sexlabel')\n",
    "hemp.head()"
   ]
  },
  {
   "cell_type": "markdown",
   "id": "89b94bbd",
   "metadata": {},
   "source": [
    "This cell is for creating the bar graph for Number of employees by gender of Hispanic owned businesses in matplotlib"
   ]
  },
  {
   "cell_type": "code",
   "execution_count": 5,
   "id": "f84b384b",
   "metadata": {},
   "outputs": [
    {
     "data": {
      "text/plain": [
       "Text(0, 0.5, '# of employees(millions)')"
      ]
     },
     "execution_count": 5,
     "metadata": {},
     "output_type": "execute_result"
    },
    {
     "data": {
      "image/png": "[encoded data removed]",
      "text/plain": [
       "<Figure size 432x288 with 1 Axes>"
      ]
     },
     "metadata": {
      "needs_background": "light"
     },
     "output_type": "display_data"
    }
   ],
   "source": [
    "ax = hemp.plot(title = 'Number of employees by gender of Hispanic owned businesses',kind='bar',x='Description')\n",
    "ax.set_xlabel('Gender Group')\n",
    "ax.set_ylabel('# of employees(millions)')"
   ]
  },
  {
   "cell_type": "markdown",
   "id": "fcade7ee",
   "metadata": {},
   "source": [
    "This cells makes a similiar graph as above but just made by seaborn instead of matplotlib"
   ]
  },
  {
   "cell_type": "code",
   "execution_count": 6,
   "id": "490f7dec",
   "metadata": {},
   "outputs": [
    {
     "data": {
      "text/plain": [
       "Text(0.5, 1.0, 'Number of employees by gender of Hispanic owned businesses')"
      ]
     },
     "execution_count": 6,
     "metadata": {},
     "output_type": "execute_result"
    },
    {
     "data": {
      "image/png": "[encoded data removed]",
      "text/plain": [
       "<Figure size 432x288 with 1 Axes>"
      ]
     },
     "metadata": {
      "needs_background": "light"
     },
     "output_type": "display_data"
    }
   ],
   "source": [
    "ax = sns.barplot(data = hemp,x='Description',y='#employees')\n",
    "ax.set_ylabel('# of employees(millions)')\n",
    "ax.set_title('Number of employees by gender of Hispanic owned businesses')"
   ]
  },
  {
   "cell_type": "markdown",
   "id": "f0428bc9",
   "metadata": {},
   "source": [
    "This cell below contains the api call for getting the techuse and employee count from the Technological Characteristics of Businesses dataset. \n",
    "It uses similiar code to the first api call, but calling different variables.\n",
    "\n",
    "I created a new pandas dataframe in order to store the data.\n",
    "I also had to again cast the # of employees as int so that I could use it in the graphing functions\n",
    "I took only the first 5 enteries of the dataframe because I was only looking to view use of ai reports, and those were the first enteries\n",
    "\n",
    "I then created another pandas dataframe for the tech use decriptions to better label the codes."
   ]
  },
  {
   "cell_type": "code",
   "execution_count": 7,
   "id": "b18db08f",
   "metadata": {},
   "outputs": [
    {
     "name": "stdout",
     "output_type": "stream",
     "text": [
      "<Response [200]>\n",
      "<class 'pandas.core.frame.DataFrame'>\n",
      "RangeIndex: 40 entries, 0 to 39\n",
      "Data columns (total 4 columns):\n",
      " #   Column      Non-Null Count  Dtype \n",
      "---  ------      --------------  ----- \n",
      " 0   Name        40 non-null     object\n",
      " 1   Tech_use    40 non-null     object\n",
      " 2   #employees  40 non-null     int32 \n",
      " 3   state       40 non-null     object\n",
      "dtypes: int32(1), object(3)\n",
      "memory usage: 1.2+ KB\n",
      "None\n"
     ]
    },
    {
     "data": {
      "text/html": [
       "<div>\n",
       "<style scoped>\n",
       "    .dataframe tbody tr th:only-of-type {\n",
       "        vertical-align: middle;\n",
       "    }\n",
       "\n",
       "    .dataframe tbody tr th {\n",
       "        vertical-align: top;\n",
       "    }\n",
       "\n",
       "    .dataframe thead th {\n",
       "        text-align: right;\n",
       "    }\n",
       "</style>\n",
       "<table border=\"1\" class=\"dataframe\">\n",
       "  <thead>\n",
       "    <tr style=\"text-align: right;\">\n",
       "      <th></th>\n",
       "      <th>Name</th>\n",
       "      <th>Tech_use</th>\n",
       "      <th>#employees</th>\n",
       "      <th>state</th>\n",
       "    </tr>\n",
       "  </thead>\n",
       "  <tbody>\n",
       "    <tr>\n",
       "      <th>0</th>\n",
       "      <td>United States</td>\n",
       "      <td>T1E03B01</td>\n",
       "      <td>66663253</td>\n",
       "      <td>1</td>\n",
       "    </tr>\n",
       "    <tr>\n",
       "      <th>1</th>\n",
       "      <td>United States</td>\n",
       "      <td>T1E03B02</td>\n",
       "      <td>2429791</td>\n",
       "      <td>1</td>\n",
       "    </tr>\n",
       "    <tr>\n",
       "      <th>2</th>\n",
       "      <td>United States</td>\n",
       "      <td>T1E03B03</td>\n",
       "      <td>7761161</td>\n",
       "      <td>1</td>\n",
       "    </tr>\n",
       "    <tr>\n",
       "      <th>3</th>\n",
       "      <td>United States</td>\n",
       "      <td>T1E03B04</td>\n",
       "      <td>3405478</td>\n",
       "      <td>1</td>\n",
       "    </tr>\n",
       "    <tr>\n",
       "      <th>4</th>\n",
       "      <td>United States</td>\n",
       "      <td>T1E03B05</td>\n",
       "      <td>704443</td>\n",
       "      <td>1</td>\n",
       "    </tr>\n",
       "  </tbody>\n",
       "</table>\n",
       "</div>"
      ],
      "text/plain": [
       "            Name  Tech_use  #employees state\n",
       "0  United States  T1E03B01    66663253     1\n",
       "1  United States  T1E03B02     2429791     1\n",
       "2  United States  T1E03B03     7761161     1\n",
       "3  United States  T1E03B04     3405478     1\n",
       "4  United States  T1E03B05      704443     1"
      ]
     },
     "execution_count": 7,
     "metadata": {},
     "output_type": "execute_result"
    }
   ],
   "source": [
    "\n",
    "dataset = 'abstcb'\n",
    "base_url1 = '/'.join([host,year,dataset])\n",
    "predicates = {}\n",
    "get_vars = ['NAME','TECHUSE','EMP']\n",
    "col_names = ['Name','Tech_use','#employees','state']\n",
    "predicates['get'] =','.join(get_vars)\n",
    "predicates['for']= 'us'\n",
    "r =requests.get(base_url1, params = predicates)\n",
    "print(r)\n",
    "\n",
    "df2 = pd.DataFrame(columns=col_names,data = r.json()[1:])\n",
    "df2['#employees'] = df2['#employees'].astype(int)\n",
    "print(df2.info())\n",
    "df2.head(25)\n",
    "aiuse = df2[0:5]\n",
    "aiuse.head()\n",
    "\n",
    "col_names = ['Tech_use','Description']\n",
    "codes = [['T1E03B01','No AI'],['T1E03B02','Tested AI'],['T1E03B03','Low AI'],['T1E03B04','Moderate AI'],['T1E03B05','High AI']]\n",
    "aicodes = pd.DataFrame(columns = col_names,data = codes)\n",
    "aiuse.head()"
   ]
  },
  {
   "cell_type": "markdown",
   "id": "88f8bd3a",
   "metadata": {},
   "source": [
    "This cell was for adding the descriptions column to the ai table and then dropping the other unnessecary columns"
   ]
  },
  {
   "cell_type": "code",
   "execution_count": 8,
   "id": "ee540f18",
   "metadata": {},
   "outputs": [],
   "source": [
    "aiuse = aiuse.merge(aicodes, how='inner',on='Tech_use')\n",
    "aiuse = aiuse[['#employees','Description']]"
   ]
  },
  {
   "cell_type": "markdown",
   "id": "b8097e0b",
   "metadata": {},
   "source": [
    "The following cell was for seeing the number of employees and the level of ai use at their firm on a bar graph in seaborn"
   ]
  },
  {
   "cell_type": "code",
   "execution_count": 9,
   "id": "7176ab05",
   "metadata": {},
   "outputs": [
    {
     "data": {
      "text/plain": [
       "Text(0.5, 1.0, 'Num emplopyees of companys by AI use')"
      ]
     },
     "execution_count": 9,
     "metadata": {},
     "output_type": "execute_result"
    },
    {
     "data": {
      "image/png": "[encoded data removed]",
      "text/plain": [
       "<Figure size 432x288 with 1 Axes>"
      ]
     },
     "metadata": {
      "needs_background": "light"
     },
     "output_type": "display_data"
    }
   ],
   "source": [
    "ax = sns.barplot(data = aiuse,x='Description',y='#employees')\n",
    "ax.set_ylabel('# of employees(10 millions)')\n",
    "ax.set_title('Num emplopyees of companys by AI use')"
   ]
  },
  {
   "cell_type": "markdown",
   "id": "f87ab8e5",
   "metadata": {},
   "source": [
    "Since the graph above is heavily shown to employees working at a firm that uses no ai, I wanted to have another graph that just showed the level of ai use of businesses that used ai at all.\n",
    "To do this I dropped the first index which was the row for no ai use and then ran the same graphing function on the new dataframe."
   ]
  },
  {
   "cell_type": "code",
   "execution_count": 10,
   "id": "f227ec2f",
   "metadata": {},
   "outputs": [
    {
     "data": {
      "text/plain": [
       "Text(0.5, 1.0, 'Num emplopyees of companys by AI use')"
      ]
     },
     "execution_count": 10,
     "metadata": {},
     "output_type": "execute_result"
    },
    {
     "data": {
      "image/png": "[encoded data removed]",
      "text/plain": [
       "<Figure size 432x288 with 1 Axes>"
      ]
     },
     "metadata": {
      "needs_background": "light"
     },
     "output_type": "display_data"
    }
   ],
   "source": [
    "\n",
    "aitotal = aiuse.drop(index = 0)\n",
    "aitotal.head()\n",
    "ax = sns.barplot(data = aitotal,x='Description',y='#employees')\n",
    "ax.set_ylabel('# of employees(millions)')\n",
    "ax.set_title('Num emplopyees of companys by AI use')"
   ]
  },
  {
   "cell_type": "code",
   "execution_count": null,
   "id": "56bd14e6",
   "metadata": {},
   "outputs": [],
   "source": []
  }
 ],
 "metadata": {
  "kernelspec": {
   "display_name": "Python 3 (ipykernel)",
   "language": "python",
   "name": "python3"
  },
  "language_info": {
   "codemirror_mode": {
    "name": "ipython",
    "version": 3
   },
   "file_extension": ".py",
   "mimetype": "text/x-python",
   "name": "python",
   "nbconvert_exporter": "python",
   "pygments_lexer": "ipython3",
   "version": "3.9.5"
  }
 },
 "nbformat": 4,
 "nbformat_minor": 5
}
